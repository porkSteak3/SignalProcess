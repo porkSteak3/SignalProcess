{
 "cells": [
  {
   "cell_type": "markdown",
   "id": "8a284976-1bef-4aaa-beed-8e79506962d6",
   "metadata": {},
   "source": [
    "ディジタルビームフォーミングのシミュレーション\n",
    "==="
   ]
  },
  {
   "cell_type": "code",
   "execution_count": 16,
   "id": "c7ab9422-dcdb-4250-ab16-b449b33771f7",
   "metadata": {},
   "outputs": [],
   "source": [
    "# Import\n",
    "import numpy as np\n",
    "import matplotlib.pyplot as plt\n",
    "import sys\n",
    "\n",
    "np.set_printoptions(precision=4, suppress=True, floatmode=\"maxprec_equal\")\n",
    "%matplotlib inline\n",
    "plt.rcParams['figure.figsize'] = (12,4)"
   ]
  },
  {
   "cell_type": "code",
   "execution_count": 17,
   "id": "691c378c-b605-44d6-9f6a-15493440cd9b",
   "metadata": {},
   "outputs": [],
   "source": [
    "# パラメータ\n",
    "Ndata = 1000\n",
    "SNRdB = 10\n",
    "N_R = 4\n",
    "d = np.array([[0.5]])\n",
    "DOAdeg = np.array([[30]])\n",
    "pointingDOAdeg = np.array([[15]])"
   ]
  },
  {
   "cell_type": "code",
   "execution_count": 18,
   "id": "068c5ef3-e161-40af-b796-0590b7776ab5",
   "metadata": {},
   "outputs": [],
   "source": [
    "# データ生成器\n",
    "\n",
    "def rndCode(codeSize, Type):\n",
    "    \"\"\"\n",
    "    codeSize: 生成するランダム系列の大きさ（行数ｘ列数）を指定\n",
    "    Type: タイプ指定 0: [0,1], 1: [-1, 1]\n",
    "    \"\"\"\n",
    "    \n",
    "    rndCode = np.random.randn(*codeSize)\n",
    "    \n",
    "    if rndCode.ndim > 2:\n",
    "        sys.exit()\n",
    "    \n",
    "    dataSize = rndCode.shape\n",
    "    if len(dataSize) == 1:\n",
    "        sys.exit()\n",
    "    \n",
    "    if Type == 0:\n",
    "        rndCode = np.where(rndCode <= 0, 0, 1)\n",
    "    else:\n",
    "        rndCode = np.where(rndCode <= 0, -1, 1)\n",
    "    \n",
    "    return rndCode\n",
    "\n",
    "# BPSK変調器\n",
    "def bpskMod(data):\n",
    "    \"\"\"\n",
    "    data: 列ベクトル\n",
    "    bpskSymbol： 列ベクトル\n",
    "    \"\"\"\n",
    "    bpskSymbol = data.copy()\n",
    "    np.place(bpskSymbol, bpskSymbol == 0, -1)\n",
    "    \n",
    "    return bpskSymbol"
   ]
  },
  {
   "cell_type": "code",
   "execution_count": 19,
   "id": "7b29c888-2523-47ed-a11d-7baede5f59e4",
   "metadata": {},
   "outputs": [],
   "source": [
    "data = rndCode([Ndata, 1], 0)\n",
    "bpskSymbol = bpskMod(data)\n",
    "Nsymbol = max(bpskSymbol.shape)"
   ]
  },
  {
   "cell_type": "code",
   "execution_count": 20,
   "id": "a3eb5f4d-15ea-4623-a758-d5aaf899ea1e",
   "metadata": {},
   "outputs": [],
   "source": [
    "def steer(N_R, d, DOAdeg):\n",
    "    \"\"\"\n",
    "    N_R: アンテナ数\n",
    "    d: 波長で正規化したアンテナ間隔\n",
    "    DOAdeg: 信号到来角度[°]\n",
    "    \"\"\"\n",
    "    DOArad = DOAdeg * np.pi/180\n",
    "    N_P = max(DOAdeg.shape)\n",
    "    PSI = np.exp(-1j* 2 * np.pi * d * np.sin(DOArad))\n",
    "    A = (np.ones((N_R, 1)) @ PSI) ** (np.arange(0,N_R).reshape(N_R, 1) @ np.ones((1,N_P)))\n",
    "    \n",
    "    return A"
   ]
  },
  {
   "cell_type": "code",
   "execution_count": 21,
   "id": "4b3eacf2-d92f-4e07-80b3-b130a6bf586d",
   "metadata": {},
   "outputs": [],
   "source": [
    "# ガウス雑音生成\n",
    "\n",
    "def awgn(Pn, rn, cn):\n",
    "    \"\"\"\n",
    "    Pn: 雑音電力\n",
    "    ｒｎ: 行数\n",
    "    cn: 列数\n",
    "    \"\"\"\n",
    "    n = (np.random.randn(rn, cn) + 1j * np.random.randn(rn, cn)) * np.sqrt(Pn / 2)\n",
    "    \n",
    "    return n"
   ]
  },
  {
   "cell_type": "code",
   "execution_count": 32,
   "id": "92fc1748-ca9f-4301-a091-7bb069cf36d8",
   "metadata": {},
   "outputs": [],
   "source": [
    "Pn = 10**(-SNRdB/10)\n",
    "steer1 = steer(N_R, d, DOAdeg)\n",
    "rSig = steer1 * bpskSymbol.T + awgn(Pn, N_R, Nsymbol)\n",
    "\n",
    "y1 = steer1.conj().T @ rSig\n",
    "steer2 = steer(N_R, d, pointingDOAdeg)\n",
    "y2 = steer2.conj().T @ rSig"
   ]
  },
  {
   "cell_type": "code",
   "execution_count": 33,
   "id": "25d38c55-ff57-4e3c-bfc2-e679623d46c5",
   "metadata": {},
   "outputs": [],
   "source": [
    "def snr(s, r):\n",
    "    \"\"\"å\n",
    "    s: SNR計算対象の信号ベクトル（x　✖️　1）\n",
    "    r:　参照信号ベクトル（y　✖️　1）\n",
    "    \"\"\"\n",
    "    length1 = max(s.shape)\n",
    "    length2 = max(r.shape)\n",
    "    length3 = min([length1, length2])\n",
    "    coef2_tmp = np.corrcoef(s[0:length3], r[0, 0:length3], rowvar=False)\n",
    "    coef2 = coef2_tmp[0,1]\n",
    "    \n",
    "    snr = abs(coef2) ** 2 / (1 - abs(coef2) ** 2)\n",
    "    \n",
    "    return snr"
   ]
  },
  {
   "cell_type": "code",
   "execution_count": 34,
   "id": "fe616c4d-0f86-4b1c-8b69-2ed03b0bba7b",
   "metadata": {},
   "outputs": [],
   "source": [
    "outputSNR1 = snr(bpskSymbol, y1)\n",
    "outputSNR2 = snr(bpskSymbol, y2)"
   ]
  },
  {
   "cell_type": "code",
   "execution_count": 35,
   "id": "30995784-9e75-435c-9cd3-c8ac11975212",
   "metadata": {},
   "outputs": [
    {
     "data": {
      "text/plain": [
       "15.896923125561424"
      ]
     },
     "execution_count": 35,
     "metadata": {},
     "output_type": "execute_result"
    }
   ],
   "source": [
    "10*np.log10(outputSNR1)"
   ]
  },
  {
   "cell_type": "code",
   "execution_count": 36,
   "id": "72db6a70-fe4e-4a66-9da1-0e994c120c16",
   "metadata": {},
   "outputs": [
    {
     "data": {
      "text/plain": [
       "12.539338097968468"
      ]
     },
     "execution_count": 36,
     "metadata": {},
     "output_type": "execute_result"
    }
   ],
   "source": [
    "10*np.log10(outputSNR2)"
   ]
  },
  {
   "cell_type": "code",
   "execution_count": 27,
   "id": "51dd2046-f1f4-45ba-b6e3-2321b37973d4",
   "metadata": {},
   "outputs": [],
   "source": [
    "def antPattern(N_R, w, d):\n",
    "    doa = np.arange(-90,90+1).reshape(1, 90 * 2 + 1)\n",
    "    A_antPat = steer(N_R, d, doa)\n",
    "    P_theta_dB = 10 * np.log10(abs(w.conj().T @ A_antPat) ** 2)\n",
    "    antPat_dB = P_theta_dB - P_theta_dB.max()\n",
    "    return doa, antPat_dB"
   ]
  },
  {
   "cell_type": "code",
   "execution_count": 28,
   "id": "e0bb7a2c-34a7-4c5b-bd35-145c0ae7ab26",
   "metadata": {},
   "outputs": [],
   "source": [
    "doa, antPat_db1 = antPattern(N_R, steer1, d)\n",
    "doa, antPat_db2 = antPattern(N_R, steer2, d)"
   ]
  },
  {
   "cell_type": "code",
   "execution_count": 50,
   "id": "2f6b17c0-141a-4fc1-b608-cc7cd96cb427",
   "metadata": {},
   "outputs": [
    {
     "data": {
      "image/png": "[encoded data removed]",
      "text/plain": [
       "<Figure size 864x288 with 1 Axes>"
      ]
     },
     "metadata": {
      "needs_background": "light"
     },
     "output_type": "display_data"
    }
   ],
   "source": [
    "plt.plot(doa[0], antPat_db1[0], 'b')\n",
    "plt.plot(doa[0], antPat_db2[0], 'r')\n",
    "plt.xlim(-90,90)\n",
    "plt.ylim(-30, 0)\n",
    "plt.show();"
   ]
  }
 ],
 "metadata": {
  "kernelspec": {
   "display_name": "Python 3",
   "language": "python",
   "name": "python3"
  },
  "language_info": {
   "codemirror_mode": {
    "name": "ipython",
    "version": 3
   },
   "file_extension": ".py",
   "mimetype": "text/x-python",
   "name": "python",
   "nbconvert_exporter": "python",
   "pygments_lexer": "ipython3",
   "version": "3.8.8"
  }
 },
 "nbformat": 4,
 "nbformat_minor": 5
}

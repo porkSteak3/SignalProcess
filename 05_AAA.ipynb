{
 "cells": [
  {
   "cell_type": "markdown",
   "id": "290ca13f-6de7-43b7-ab8f-c3ea1c1ad375",
   "metadata": {},
   "source": [
    "アダプティブ・アレー・アンテナ シミュレーション\n",
    "==="
   ]
  },
  {
   "cell_type": "code",
   "execution_count": 59,
   "id": "8cf8804b-08d2-4fee-b98d-0a692f97d15c",
   "metadata": {},
   "outputs": [],
   "source": [
    "# Import\n",
    "import numpy as np\n",
    "import matplotlib.pyplot as plt\n",
    "import sys\n",
    "\n",
    "np.set_printoptions(precision=4, suppress=True, floatmode=\"maxprec_equal\")\n",
    "%matplotlib inline\n",
    "plt.rcParams['figure.figsize'] = (12,4)"
   ]
  },
  {
   "cell_type": "code",
   "execution_count": 60,
   "id": "1b78714e-70b7-48c8-9ade-c214bce805f5",
   "metadata": {},
   "outputs": [],
   "source": [
    "# パラメータ\n",
    "DOAdeg =30\n",
    "DOAdeg_delayed = -10\n",
    "Delay = np.array([[0,1]])\n",
    "Nsignal = max(Delay.shape)\n",
    "Ndata = 1000\n",
    "SNRdB = 10\n",
    "N_R = 4\n",
    "d = 0.5"
   ]
  },
  {
   "cell_type": "code",
   "execution_count": 61,
   "id": "0ec1977e-ef6f-4650-b241-3e0a24686e48",
   "metadata": {},
   "outputs": [],
   "source": [
    "# データ生成器\n",
    "\n",
    "def rndCode(codeSize, Type):\n",
    "    \"\"\"\n",
    "    codeSize: 生成するランダム系列の大きさ（行数ｘ列数）を指定\n",
    "    Type: タイプ指定 0: [0,1], 1: [-1, 1]\n",
    "    \"\"\"\n",
    "    \n",
    "    rndCode = np.random.randn(*codeSize)\n",
    "    \n",
    "    if rndCode.ndim > 2:\n",
    "        sys.exit()\n",
    "    \n",
    "    dataSize = rndCode.shape\n",
    "    if len(dataSize) == 1:\n",
    "        sys.exit()\n",
    "    \n",
    "    if Type == 0:\n",
    "        rndCode = np.where(rndCode <= 0, 0, 1)\n",
    "    else:\n",
    "        rndCode = np.where(rndCode <= 0, -1, 1)\n",
    "    \n",
    "    return rndCode\n",
    "\n",
    "# BPSK変調器\n",
    "def bpskMod(data):\n",
    "    \"\"\"\n",
    "    data: 列ベクトル\n",
    "    bpskSymbol： 列ベクトル\n",
    "    \"\"\"\n",
    "    bpskSymbol = data.copy()\n",
    "    np.place(bpskSymbol, bpskSymbol == 0, -1)\n",
    "    \n",
    "    return bpskSymbol\n",
    "\n",
    "# 遅延発生器\n",
    "def delayGen(delayVec, ssSigMat):\n",
    "    sigMat = ssSigMat.copy()\n",
    "    Nsig = delayVec.shape[1]\n",
    "    \n",
    "    if Nsig != sigMat.shape[1]:\n",
    "        sys.exit(1)\n",
    "    \n",
    "    for co in range(0, Nsig):\n",
    "        if delayVec[0,co] > 0:\n",
    "            roll_num = delayVec[0][co]\n",
    "            sigMat[:,co] = np.roll(sigMat[:,co],roll_num)\n",
    "            sigMat[:roll_num, co] = 0\n",
    "            \n",
    "    return sigMat\n",
    "\n",
    "def steer(N_R, d, DOAdeg):\n",
    "    \"\"\"\n",
    "    N_R: アンテナ数\n",
    "    d: 波長で正規化したアンテナ間隔\n",
    "    DOAdeg: 信号到来角度[°]\n",
    "    \"\"\"\n",
    "    DOArad = DOAdeg * np.pi/180\n",
    "    N_P = max(DOAdeg.shape)\n",
    "    PSI = np.exp(-1j* 2 * np.pi * d * np.sin(DOArad))\n",
    "    A = (np.ones((N_R, 1)) @ PSI) ** (np.arange(0,N_R).reshape(N_R, 1) @ np.ones((1,N_P)))\n",
    "    \n",
    "    return A\n",
    "\n",
    "# ガウス雑音生成\n",
    "\n",
    "def awgn(Pn, rn, cn):\n",
    "    \"\"\"\n",
    "    Pn: 雑音電力\n",
    "    ｒｎ: 行数\n",
    "    cn: 列数\n",
    "    \"\"\"\n",
    "    n = (np.random.randn(rn, cn) + 1j * np.random.randn(rn, cn)) * np.sqrt(Pn / 2)\n",
    "    \n",
    "    return n"
   ]
  },
  {
   "cell_type": "code",
   "execution_count": 62,
   "id": "699a821b-e2a0-4f05-a063-f450996bc665",
   "metadata": {},
   "outputs": [],
   "source": [
    "data = rndCode([Ndata, 1], 0)\n",
    "bpskSymbol = bpskMod(data)\n",
    "Nsymbol = max(bpskSymbol.shape)\n",
    "\n",
    "bpskSymbols = bpskSymbol @ np.ones((1,Nsignal))\n",
    "bpskSymbols = delayGen(Delay, bpskSymbols)\n",
    "Pn = 10 ** (-SNRdB/10)\n",
    "\n",
    "steers = steer(N_R, d, np.array([[DOAdeg, DOAdeg_delayed]]))\n",
    "rSig = steers @ bpskSymbols.T + awgn(Pn, N_R, Nsymbol)"
   ]
  },
  {
   "cell_type": "code",
   "execution_count": 111,
   "id": "53216dc4-55ff-4f0f-bed8-bf8ba6493b3e",
   "metadata": {},
   "outputs": [],
   "source": [
    "Rxx = rSig @ rSig.conj().T\n",
    "gamma_rx = rSig @ bpskSymbol[:,0].conj()\n",
    "w = np.array([np.linalg.inv(Rxx) @ gamma_rx]).T"
   ]
  },
  {
   "cell_type": "code",
   "execution_count": 112,
   "id": "d46f70db-c670-43f9-a64b-1b23b2108f52",
   "metadata": {},
   "outputs": [],
   "source": [
    "def snr(s, r):\n",
    "    \"\"\"å\n",
    "    s: SNR計算対象の信号ベクトル（x　✖️　1）\n",
    "    r:　参照信号ベクトル（y　✖️　1）\n",
    "    \"\"\"\n",
    "    length1 = max(s.shape)\n",
    "    length2 = max(r.shape)\n",
    "    length3 = min([length1, length2])\n",
    "    coef2_tmp = np.corrcoef(s[0:length3], r[0, 0:length3], rowvar=False)\n",
    "    coef2 = coef2_tmp[0,1]\n",
    "    \n",
    "    snr = abs(coef2) ** 2 / (1 - abs(coef2) ** 2)\n",
    "    \n",
    "    return snr"
   ]
  },
  {
   "cell_type": "code",
   "execution_count": 114,
   "id": "faf6a283-6659-41cd-be05-d03ed7db1d2f",
   "metadata": {},
   "outputs": [],
   "source": [
    "y_wi = w.conj().T @ rSig\n",
    "outputSNR_wi = snr(bpskSymbol, y_wi)"
   ]
  },
  {
   "cell_type": "code",
   "execution_count": 115,
   "id": "958416a7-4b44-4332-839c-f2f5faefb179",
   "metadata": {},
   "outputs": [],
   "source": [
    "y = np.ones((1, N_R)) @ rSig\n",
    "outputSNR = snr(bpskSymbol, y)"
   ]
  },
  {
   "cell_type": "code",
   "execution_count": 116,
   "id": "5250399d-01d9-4653-bf1c-58a7268f441a",
   "metadata": {},
   "outputs": [
    {
     "data": {
      "text/plain": [
       "15.97886548467988"
      ]
     },
     "execution_count": 116,
     "metadata": {},
     "output_type": "execute_result"
    }
   ],
   "source": [
    "10*np.log10(outputSNR_wi)"
   ]
  },
  {
   "cell_type": "code",
   "execution_count": 117,
   "id": "388f790c-00ef-4d85-b0ca-70b1b194c691",
   "metadata": {},
   "outputs": [
    {
     "data": {
      "text/plain": [
       "-43.58918134011351"
      ]
     },
     "execution_count": 117,
     "metadata": {},
     "output_type": "execute_result"
    }
   ],
   "source": [
    "10*np.log10(outputSNR)"
   ]
  },
  {
   "cell_type": "code",
   "execution_count": 118,
   "id": "f8a260bc-af11-4757-972e-6dc1e7f9b93e",
   "metadata": {},
   "outputs": [],
   "source": [
    "def antPattern(N_R, w, d):\n",
    "    doa = np.arange(-90,90+1).reshape(1, 90 * 2 + 1)\n",
    "    A_antPat = steer(N_R, d, doa)\n",
    "    P_theta_dB = 10 * np.log10(abs(w.conj().T @ A_antPat) ** 2)\n",
    "    antPat_dB = P_theta_dB - P_theta_dB.max()\n",
    "    return doa, antPat_dB"
   ]
  },
  {
   "cell_type": "code",
   "execution_count": 119,
   "id": "e4f89017-c8cf-4b65-be38-9962128bafe6",
   "metadata": {},
   "outputs": [],
   "source": [
    "doa, antPat_wi = antPattern(N_R, w, d)\n",
    "doa, antPat = antPattern(N_R, np.ones((4,1)), d)"
   ]
  },
  {
   "cell_type": "code",
   "execution_count": 120,
   "id": "fe4f0f6f-7efc-4516-a45b-a19f29ce5d0e",
   "metadata": {},
   "outputs": [
    {
     "data": {
      "text/plain": [
       "(1, 181)"
      ]
     },
     "execution_count": 120,
     "metadata": {},
     "output_type": "execute_result"
    }
   ],
   "source": [
    "antPat_wi.shape"
   ]
  },
  {
   "cell_type": "code",
   "execution_count": 121,
   "id": "f92381d4-14f7-4449-ac75-5128ec3ec45d",
   "metadata": {},
   "outputs": [
    {
     "data": {
      "image/png": "[encoded data removed]",
      "text/plain": [
       "<Figure size 864x288 with 1 Axes>"
      ]
     },
     "metadata": {
      "needs_background": "light"
     },
     "output_type": "display_data"
    }
   ],
   "source": [
    "plt.plot(doa[0], antPat_wi[0], 'b')\n",
    "plt.plot(doa[0], antPat[0], 'r')\n",
    "plt.xlim(-90,90)\n",
    "plt.ylim(-30, 0)\n",
    "plt.show();"
   ]
  }
 ],
 "metadata": {
  "kernelspec": {
   "display_name": "Python 3",
   "language": "python",
   "name": "python3"
  },
  "language_info": {
   "codemirror_mode": {
    "name": "ipython",
    "version": 3
   },
   "file_extension": ".py",
   "mimetype": "text/x-python",
   "name": "python",
   "nbconvert_exporter": "python",
   "pygments_lexer": "ipython3",
   "version": "3.8.8"
  }
 },
 "nbformat": 4,
 "nbformat_minor": 5
}

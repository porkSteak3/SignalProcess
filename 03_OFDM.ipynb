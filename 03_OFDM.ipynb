{
 "cells": [
  {
   "cell_type": "markdown",
   "id": "0e9b5314-d839-4d57-b22b-188f5eff025b",
   "metadata": {},
   "source": [
    "直交周波数分割変調のシミュレーション\n",
    "===\n",
    "\n",
    "<img src='./imgsrc/OFDMA変調.drawio.png'>"
   ]
  },
  {
   "cell_type": "code",
   "execution_count": 2,
   "id": "14ae9446-2fc1-49ad-9441-723296cb93e3",
   "metadata": {},
   "outputs": [],
   "source": [
    "# import\n",
    "import numpy as np\n",
    "import sys\n",
    "import matplotlib.pyplot as plt\n",
    "\n",
    "np.set_printoptions(precision=4, suppress=True, floatmode=\"maxprec_equal\")\n",
    "plt.rcParams['figure.figsize'] = (12,4)"
   ]
  },
  {
   "cell_type": "code",
   "execution_count": 3,
   "id": "8b55c552",
   "metadata": {},
   "outputs": [],
   "source": [
    "Nsc = 32\n",
    "N_GI = 8\n",
    "Lpilot = 2\n",
    "NofdmSymbol = 500\n",
    "Ndata = Nsc * NofdmSymbol\n",
    "SNRdB = 20\n",
    "Delay = np.array([[0,8]])\n",
    "Npath = max(Delay.shape)"
   ]
  },
  {
   "cell_type": "code",
   "execution_count": 4,
   "id": "4d879462-b8c0-47ac-af61-571cb6f0a890",
   "metadata": {},
   "outputs": [],
   "source": [
    "def rndCode(codeSize, Type):\n",
    "    \"\"\"\n",
    "    codeSize: 生成するランダム系列の大きさ（行数ｘ列数）を指定\n",
    "    Type: タイプ指定 0: [0,1], 1: [-1, 1]\n",
    "    \"\"\"\n",
    "    \n",
    "    rndCode = np.random.randn(*codeSize)\n",
    "    \n",
    "    if rndCode.ndim > 2:\n",
    "        sys.exit()\n",
    "    \n",
    "    dataSize = rndCode.shape\n",
    "    if len(dataSize) == 1:\n",
    "        sys.exit()\n",
    "    \n",
    "    if Type == 0:\n",
    "        rndCode = np.where(rndCode <= 0, 0, 1)\n",
    "    else:\n",
    "        rndCode = np.where(rndCode <= 0, -1, 1)\n",
    "    \n",
    "    return rndCode"
   ]
  },
  {
   "cell_type": "code",
   "execution_count": 5,
   "id": "aec1eec8-189c-4ea8-b5c0-d280f7e7657f",
   "metadata": {},
   "outputs": [],
   "source": [
    "# BPSK変調器\n",
    "def bpskMod(data):\n",
    "    bpskSymbol = data.copy()\n",
    "    np.place(bpskSymbol, bpskSymbol == 0, -1)\n",
    "    \n",
    "    return bpskSymbol"
   ]
  },
  {
   "cell_type": "code",
   "execution_count": 6,
   "id": "9d0a2213-9495-425c-a3a4-f1ce7b051bb6",
   "metadata": {},
   "outputs": [],
   "source": [
    "# 送信機\n",
    "data = rndCode([Ndata,1], 0)\n",
    "bpskSymbol = bpskMod(data)\n",
    "Nsymbol = max(bpskSymbol.shape)\n",
    "spOut = bpskSymbol.reshape(Nsc,NofdmSymbol, order='F').copy()\n",
    "\n",
    "pilotMat = np.ones((Nsc,Lpilot))\n",
    "ofdmSymbol = np.hstack([pilotMat,spOut])\n",
    "ofdmSymbol_pilot = np.fft.ifft(ofdmSymbol, axis=0)\n",
    "gi = ofdmSymbol_pilot[-1-N_GI:-1,:]\n",
    "ofdmSymbol_pilot_GI = np.vstack([gi,ofdmSymbol_pilot])\n",
    "sOFDM = np.array([ofdmSymbol_pilot_GI.flatten('F')]).T;\n",
    "ofdmSymbolMat = sOFDM @ np.ones((1, Npath))"
   ]
  },
  {
   "cell_type": "code",
   "execution_count": 7,
   "id": "4dd65886-c98d-4e93-a43d-d789d59667c5",
   "metadata": {},
   "outputs": [
    {
     "data": {
      "text/plain": [
       "array([[0, 1, 1, ..., 0, 1, 1]])"
      ]
     },
     "execution_count": 7,
     "metadata": {},
     "output_type": "execute_result"
    }
   ],
   "source": [
    "# 送信データ\n",
    "data.T"
   ]
  },
  {
   "cell_type": "code",
   "execution_count": 8,
   "id": "385270e9-0d3f-45dc-ac37-602b641be6ae",
   "metadata": {},
   "outputs": [],
   "source": [
    "# 遅延発生器\n",
    "def delayGen(delayVec, ssSigMat):\n",
    "    sigMat = ssSigMat.copy()\n",
    "    Nsig = delayVec.shape[1]\n",
    "    \n",
    "    if Nsig != sigMat.shape[1]:\n",
    "        sys.exit(1)\n",
    "    \n",
    "    for co in range(0, Nsig):\n",
    "        if delayVec[0,co] > 0:\n",
    "            roll_num = delayVec[0][co]\n",
    "            sigMat[:,co] = np.roll(sigMat[:,co],roll_num)\n",
    "            sigMat[:roll_num, co] = 0\n",
    "            \n",
    "    return sigMat"
   ]
  },
  {
   "cell_type": "code",
   "execution_count": 9,
   "id": "a9d55060-b325-4e9d-9e02-78adc7a40855",
   "metadata": {},
   "outputs": [],
   "source": [
    "def awgn(Pn, rn, cn):\n",
    "    \"\"\"\n",
    "    Pn: 雑音電力\n",
    "    ｒｎ: 行数\n",
    "    cn: 列数\n",
    "    \"\"\"\n",
    "    n = np.random.randn(rn, cn) + 1j*np.random.randn(rn, cn)\n",
    "    n = n * np.sqrt(Pn/2)\n",
    "    \n",
    "    return n"
   ]
  },
  {
   "cell_type": "code",
   "execution_count": 10,
   "id": "72e08545-8add-4000-835a-f75dffbd2f11",
   "metadata": {},
   "outputs": [],
   "source": [
    "# 伝送\n",
    "ofdmSymbolMatDelayed = delayGen(Delay, ofdmSymbolMat)\n",
    "chOut = ofdmSymbolMatDelayed @ np.ones((Npath,1))\n",
    "Pn = 10**(-SNRdB/10) / Nsc\n",
    "rSig = chOut + awgn(Pn, max(chOut.shape), 1)"
   ]
  },
  {
   "cell_type": "code",
   "execution_count": 11,
   "id": "0fd30bba-f134-485f-95c0-055cb3295b0f",
   "metadata": {},
   "outputs": [
    {
     "data": {
      "text/plain": [
       "<matplotlib.collections.PathCollection at 0x7fcde1265d30>"
      ]
     },
     "execution_count": 11,
     "metadata": {},
     "output_type": "execute_result"
    },
    {
     "data": {
      "image/png": "[encoded data removed]",
      "text/plain": [
       "<Figure size 864x288 with 1 Axes>"
      ]
     },
     "metadata": {
      "needs_background": "light"
     },
     "output_type": "display_data"
    }
   ],
   "source": [
    "plt.scatter(rSig.real, rSig.imag)"
   ]
  },
  {
   "cell_type": "code",
   "execution_count": 12,
   "id": "d9fd6f95-8aae-4d44-9754-ebcab0e2e2e5",
   "metadata": {},
   "outputs": [],
   "source": [
    "# 受信機\n",
    "\n",
    "spOutR = rSig.reshape((Nsc+N_GI), (Lpilot+NofdmSymbol),order='F').copy()\n",
    "spOutR = spOutR[N_GI:, :]\n",
    "fftOut = np.fft.fft(spOutR, axis=0) #**\n",
    "pilotMatRx = fftOut[:,:Lpilot]\n",
    "ofdmSymbolRx = fftOut[:,Lpilot:]"
   ]
  },
  {
   "cell_type": "code",
   "execution_count": 13,
   "id": "ab22769e-b429-4149-8eb1-95aebf884e27",
   "metadata": {},
   "outputs": [],
   "source": [
    "chCoeff = np.array([np.mean(pilotMatRx, axis=1)]).T\n",
    "phaseShift = chCoeff/abs(chCoeff) * np.ones((1, NofdmSymbol))"
   ]
  },
  {
   "cell_type": "code",
   "execution_count": 14,
   "id": "4d1d1091-1cd8-4a24-a69e-79db57387c6f",
   "metadata": {},
   "outputs": [],
   "source": [
    "ofdmSymbolRxCompensted = ofdmSymbolRx * phaseShift.conj()\n",
    "ofdmSymbolRxCompensted = np.array([ofdmSymbolRxCompensted.flatten('F')]).T"
   ]
  },
  {
   "cell_type": "code",
   "execution_count": 15,
   "id": "320562d1-5974-471d-a0b9-67c8eb88bce8",
   "metadata": {},
   "outputs": [],
   "source": [
    "# BPSK復調器\n",
    "def bpskDem(rSig):\n",
    "    \"\"\"\n",
    "    rSig : 受信信号\n",
    "    rData:　受信データ\n",
    "    \"\"\"\n",
    "    rData = np.ones(rSig.shape)\n",
    "    rData[rSig < 0] =  0\n",
    "    \n",
    "    return rData"
   ]
  },
  {
   "cell_type": "code",
   "execution_count": 16,
   "id": "aa82c57b-82cb-42a5-8c9a-08916b7ce68f",
   "metadata": {},
   "outputs": [],
   "source": [
    "rData = bpskDem(ofdmSymbolRxCompensted)"
   ]
  },
  {
   "cell_type": "code",
   "execution_count": 17,
   "id": "512b60e5-63ed-4dc8-97ae-97d5a9ab1d28",
   "metadata": {},
   "outputs": [
    {
     "data": {
      "text/plain": [
       "array([[0., 1., 1., ..., 0., 0., 1.]])"
      ]
     },
     "execution_count": 17,
     "metadata": {},
     "output_type": "execute_result"
    }
   ],
   "source": [
    "#　受信データ\n",
    "rData.T"
   ]
  },
  {
   "cell_type": "code",
   "execution_count": 18,
   "id": "5fe3e56d-e0d1-484a-aa7d-1569ed8c618a",
   "metadata": {},
   "outputs": [],
   "source": [
    "# BER比較器\n",
    "def ber(data1, data2):\n",
    "    BER = np.sum(np.abs(data1-data2))/data1.size\n",
    "    return BER"
   ]
  },
  {
   "cell_type": "code",
   "execution_count": 19,
   "id": "8a79dd15-4f61-494f-a101-da2463f27855",
   "metadata": {},
   "outputs": [
    {
     "data": {
      "text/plain": [
       "0.119875"
      ]
     },
     "execution_count": 19,
     "metadata": {},
     "output_type": "execute_result"
    }
   ],
   "source": [
    "ber(data,rData)"
   ]
  },
  {
   "cell_type": "code",
   "execution_count": 20,
   "id": "3e9bd456-e134-426b-ac30-23349d8060a7",
   "metadata": {},
   "outputs": [
    {
     "data": {
      "text/plain": [
       "array([[0],\n",
       "       [1],\n",
       "       [1],\n",
       "       ...,\n",
       "       [0],\n",
       "       [1],\n",
       "       [1]])"
      ]
     },
     "execution_count": 20,
     "metadata": {},
     "output_type": "execute_result"
    }
   ],
   "source": [
    "data"
   ]
  },
  {
   "cell_type": "code",
   "execution_count": null,
   "id": "c4815409-e290-45eb-987a-c43fd6485bab",
   "metadata": {},
   "outputs": [],
   "source": []
  }
 ],
 "metadata": {
  "kernelspec": {
   "display_name": "Python 3",
   "language": "python",
   "name": "python3"
  },
  "language_info": {
   "codemirror_mode": {
    "name": "ipython",
    "version": 3
   },
   "file_extension": ".py",
   "mimetype": "text/x-python",
   "name": "python",
   "nbconvert_exporter": "python",
   "pygments_lexer": "ipython3",
   "version": "3.8.8"
  }
 },
 "nbformat": 4,
 "nbformat_minor": 5
}

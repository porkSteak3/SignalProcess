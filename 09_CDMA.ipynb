{
 "cells": [
  {
   "cell_type": "markdown",
   "id": "208e75ce-3fa1-445e-86e5-a479b0bc1a0c",
   "metadata": {},
   "source": [
    "CDMA　シミュレーション\n",
    "==="
   ]
  },
  {
   "cell_type": "code",
   "execution_count": 84,
   "id": "f224fd69-1d70-44de-a852-1219b99b47eb",
   "metadata": {},
   "outputs": [],
   "source": [
    "# import\n",
    "import numpy as np\n",
    "import matplotlib.pyplot as plt\n",
    "import sys\n",
    "\n",
    "np.set_printoptions(precision=4, suppress=True, floatmode=\"maxprec_equal\")\n",
    "plt.rcParams['figure.figsize'] = (12,4)"
   ]
  },
  {
   "cell_type": "code",
   "execution_count": 85,
   "id": "80a5e81d-0557-426b-9cbf-9dc82d7691ba",
   "metadata": {},
   "outputs": [],
   "source": [
    "# パラメータ\n",
    "Ndata = 1000\n",
    "Nchip = 100\n",
    "UserPower = np.array([1, 100])\n",
    "Nuser = max(UserPower.shape)\n",
    "SNRdB = 20\n",
    "Lss = Ndata * Nchip;"
   ]
  },
  {
   "cell_type": "code",
   "execution_count": 86,
   "id": "57e33828-4299-4dd6-85eb-14b69621b58b",
   "metadata": {},
   "outputs": [],
   "source": [
    "def rndCode(codeSize, Type):\n",
    "    \"\"\"\n",
    "    codeSize: 生成するランダム系列の大きさ（行数ｘ列数）を指定\n",
    "    Type: タイプ指定 0: [0,1], 1: [-1, 1]\n",
    "    \"\"\"\n",
    "    \n",
    "    rndCode = np.random.randn(*codeSize)\n",
    "    \n",
    "    if rndCode.ndim > 2:\n",
    "        sys.exit()\n",
    "    \n",
    "    dataSize = rndCode.shape\n",
    "    if len(dataSize) == 1:\n",
    "        sys.exit()\n",
    "    \n",
    "    if Type == 0:\n",
    "        rndCode = np.where(rndCode <= 0, 0, 1)\n",
    "    else:\n",
    "        rndCode = np.where(rndCode <= 0, -1, 1)\n",
    "    \n",
    "    return rndCode\n",
    "\n",
    "# BPSK変調器\n",
    "def bpskMod(data):\n",
    "    \"\"\"\n",
    "    data: 列ベクトル\n",
    "    bpskSymbol： 列ベクトル\n",
    "    \"\"\"\n",
    "    bpskSymbol = data.copy()\n",
    "    np.place(bpskSymbol, bpskSymbol == 0, -1)\n",
    "    \n",
    "    return bpskSymbol\n",
    "\n",
    "# ガウス雑音生成\n",
    "\n",
    "def awgn(Pn, rn, cn):\n",
    "    \"\"\"\n",
    "    Pn: 雑音電力\n",
    "    ｒｎ: 行数\n",
    "    cn: 列数\n",
    "    \"\"\"\n",
    "    n = np.random.randn(rn, cn) + 1j*np.random.randn(rn, cn)\n",
    "    n = n * np.sqrt(Pn/2)\n",
    "    \n",
    "    return n\n",
    "\n",
    "# 相関器\n",
    "def correlator(w, rSig):\n",
    "    \"\"\"\n",
    "    w: 重み係数\n",
    "    sig:　入力信号\n",
    "    \"\"\"\n",
    "    sig = rSig.copy()\n",
    "    \n",
    "    sizeW = w.shape\n",
    "    Lw = sizeW[0] # 100\n",
    "    Nw = sizeW[1] # 1\n",
    "    corIn = np.vstack([sig, np.zeros((Lw,1))]) # 1100 x 1\n",
    "    corOut = np.zeros((max(sig.shape), Nw), dtype=\"complex\") # 1000x1\n",
    "    \n",
    "    for co in range(0, max(corOut.shape)):\n",
    "        corOut[co, :] = (w.conj().T @ corIn[co:(co + Lw)])[0]\n",
    "\n",
    "    return corOut\n",
    "\n",
    "# BPSK復調器\n",
    "def bpskDem(rSig):\n",
    "    \"\"\"\n",
    "    rSig : 受信信号\n",
    "    rData:　受信データ\n",
    "    \"\"\"\n",
    "    rData = np.ones(rSig.shape)\n",
    "    rData[rSig < 0] =  0\n",
    "    \n",
    "    return rData\n",
    "\n",
    "# BER比較器\n",
    "def ber(data1, data2):\n",
    "    BER = np.sum(np.abs(data1-data2))/max(data1.shape)\n",
    "    return BER"
   ]
  },
  {
   "cell_type": "code",
   "execution_count": 87,
   "id": "022481c5-9428-482a-92d7-083b136519ad",
   "metadata": {},
   "outputs": [],
   "source": [
    "# 送信機\n",
    "data = rndCode([Ndata, Nuser], 0)\n",
    "bpskSymbol = bpskMod(data)\n",
    "Nsymbol = max(bpskSymbol.shape)\n",
    "spCode = rndCode([Nchip, Nuser], 1)\n",
    "ssSig = spCode @ np.diag(np.sqrt(UserPower)) @ bpskSymbol.T\n",
    "ssSig = np.array([ssSig.flatten('F')]).T"
   ]
  },
  {
   "cell_type": "code",
   "execution_count": 88,
   "id": "fb9cfca5-92a2-4552-aa20-50ae4a0dc1d5",
   "metadata": {},
   "outputs": [],
   "source": [
    "# 通信経路\n",
    "Pn = 10 ** (-SNRdB/10) * np.sqrt(UserPower[0]) * Nchip\n",
    "rSig = ssSig + awgn(Pn, Lss, 1)"
   ]
  },
  {
   "cell_type": "code",
   "execution_count": 89,
   "id": "2673671a-062f-4932-acd7-bc80badc5c8f",
   "metadata": {},
   "outputs": [
    {
     "name": "stdout",
     "output_type": "stream",
     "text": [
      "*端末0 のBER：\n",
      "0.5\n",
      "*端末1 のBER：\n",
      "0.0\n"
     ]
    }
   ],
   "source": [
    "# 受信機\n",
    "corOut = correlator(spCode, rSig);\n",
    "for userCo in range(0, Nuser):\n",
    "    corOut_rshp = corOut[:, userCo].reshape(Nchip, Ndata, order='F').copy()\n",
    "    rData = bpskDem(corOut_rshp[0,:])\n",
    "    BER = ber(data[:, userCo], rData.T)\n",
    "    print('*端末{} のBER：'.format(userCo))\n",
    "    print(BER)"
   ]
  }
 ],
 "metadata": {
  "kernelspec": {
   "display_name": "Python 3",
   "language": "python",
   "name": "python3"
  },
  "language_info": {
   "codemirror_mode": {
    "name": "ipython",
    "version": 3
   },
   "file_extension": ".py",
   "mimetype": "text/x-python",
   "name": "python",
   "nbconvert_exporter": "python",
   "pygments_lexer": "ipython3",
   "version": "3.8.8"
  }
 },
 "nbformat": 4,
 "nbformat_minor": 5
}

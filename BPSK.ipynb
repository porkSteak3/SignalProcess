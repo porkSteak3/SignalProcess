{
 "cells": [
  {
   "cell_type": "markdown",
   "id": "e56bf271-6ed7-42a5-9931-007ffec989ed",
   "metadata": {},
   "source": [
    "＃ Model\n",
    "\n",
    "送信データ →　変調器　→　伝送（雑音印加） →　復調器 →　受信データ"
   ]
  },
  {
   "cell_type": "code",
   "execution_count": 77,
   "id": "64f1ee79-bbc4-4631-a821-1abb0fc902f4",
   "metadata": {},
   "outputs": [],
   "source": [
    "# import\n",
    "import numpy as np\n",
    "import sys"
   ]
  },
  {
   "cell_type": "code",
   "execution_count": 137,
   "id": "59d26d13-9429-4f2d-bcb9-6f118702982c",
   "metadata": {},
   "outputs": [],
   "source": [
    "# データ生成器\n",
    "\n",
    "def rndCode(codeSize, Type):\n",
    "    \"\"\"\n",
    "    codeSize: 生成するランダム系列の大きさ（行数ｘ列数）を指定\n",
    "    Type: タイプ指定 0: [0,1], 1: [-1, 1]\n",
    "    \"\"\"\n",
    "    \n",
    "    rndCode = np.random.randn(*codeSize)\n",
    "    \n",
    "    if rndCode.ndim > 2:\n",
    "        sys.exit()\n",
    "    \n",
    "    dataSize = rndCode.shape\n",
    "    if len(dataSize) == 1:\n",
    "        sys.exit()\n",
    "    \n",
    "    if Type == 0:\n",
    "        rndCode = np.where(rndCode <= 0, 0, 1)\n",
    "    else:\n",
    "        rndCode = np.where(rndCode <= 0, -1, 1)\n",
    "    \n",
    "    return rndCode"
   ]
  },
  {
   "cell_type": "code",
   "execution_count": 138,
   "id": "2b697a82-ba96-45bd-a931-8f4202d5acc9",
   "metadata": {},
   "outputs": [],
   "source": [
    "# BPSK変調器\n",
    "def bpskMod(data):\n",
    "    bpskSymbol = data.copy()\n",
    "    np.place(bpskSymbol, bpskSymbol == 0, -1)\n",
    "    \n",
    "    return bpskSymbol"
   ]
  },
  {
   "cell_type": "code",
   "execution_count": 140,
   "id": "eede5fbe-853b-49af-81a5-6a371a641679",
   "metadata": {},
   "outputs": [],
   "source": [
    "# 送信機\n",
    "\n",
    "Ndata = 1024 # データ数\n",
    "SNRdB = 10 # 雑音比\n",
    "\n",
    "data = rndCode([Ndata, 1], 0)\n",
    "bpskSymbol = bpskMod(data)"
   ]
  },
  {
   "cell_type": "code",
   "execution_count": 141,
   "id": "2df7cfa6-0999-4cf1-9752-2628ad3e71bf",
   "metadata": {},
   "outputs": [],
   "source": [
    "# ガウス雑音生成\n",
    "\n",
    "def awgn(Pn, rn, cn):\n",
    "    \"\"\"\n",
    "    Pn: 雑音電力\n",
    "    ｒｎ: 行数\n",
    "    cn: 列数\n",
    "    \"\"\"\n",
    "    n = (np.random.randn(rn, cn)) + 1j * np.random.randn(rn, cn) * np.sqrt(Pn / 2)\n",
    "    \n",
    "    return n"
   ]
  },
  {
   "cell_type": "code",
   "execution_count": 159,
   "id": "1ce081cf-6376-479c-afd9-4fa2ebd12fdb",
   "metadata": {},
   "outputs": [],
   "source": [
    "# 雑音印加\n",
    "NSymbol = len(bpskSymbol)\n",
    "Pn = 10**(-SNRdB/10)\n",
    "rSig = bpskSymbol + awgn(Pn, NSymbol, 1)"
   ]
  },
  {
   "cell_type": "code",
   "execution_count": 160,
   "id": "75c65850-5fbb-432c-8487-a2feb71603ae",
   "metadata": {},
   "outputs": [],
   "source": [
    "# BPSK復調器\n",
    "def bpskDem(rSig):\n",
    "    \"\"\"\n",
    "    rSig : 受信信号\n",
    "    rData:　受信データ\n",
    "    \"\"\"\n",
    "    rData = np.where(rSig < 0, 0, 1)\n",
    "    \n",
    "    return rData"
   ]
  },
  {
   "cell_type": "code",
   "execution_count": 163,
   "id": "46db417a-e41a-40cb-bc31-4f45cbe05bae",
   "metadata": {},
   "outputs": [],
   "source": [
    "# 受信機\n",
    "rData = bpskDem(rSig)"
   ]
  },
  {
   "cell_type": "code",
   "execution_count": 165,
   "id": "f54658e5-83ae-4d95-8b3c-b42be56f10bf",
   "metadata": {},
   "outputs": [],
   "source": [
    "# BER比較器\n",
    "def ber(data1, data2):\n",
    "    BER = np.sum(np.abs(data1-data2))/data1.size\n",
    "    return BER"
   ]
  },
  {
   "cell_type": "code",
   "execution_count": 166,
   "id": "9f89c404-da12-454c-9de4-ce48031b11e8",
   "metadata": {},
   "outputs": [
    {
     "data": {
      "text/plain": [
       "0.1650390625"
      ]
     },
     "execution_count": 166,
     "metadata": {},
     "output_type": "execute_result"
    }
   ],
   "source": [
    "# ビットエラーレート（BER）の測定\n",
    "ber(data, rData)"
   ]
  }
 ],
 "metadata": {
  "kernelspec": {
   "display_name": "Python 3",
   "language": "python",
   "name": "python3"
  },
  "language_info": {
   "codemirror_mode": {
    "name": "ipython",
    "version": 3
   },
   "file_extension": ".py",
   "mimetype": "text/x-python",
   "name": "python",
   "nbconvert_exporter": "python",
   "pygments_lexer": "ipython3",
   "version": "3.8.8"
  }
 },
 "nbformat": 4,
 "nbformat_minor": 5
}

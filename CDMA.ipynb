{
 "cells": [
  {
   "cell_type": "markdown",
   "id": "e56bf271-6ed7-42a5-9931-007ffec989ed",
   "metadata": {},
   "source": [
    "＃ Model\n",
    "\n",
    "送信データ →　変調器　→　拡散系列　→　伝送（雑音印加） →　拡散系列　→ 相関器 →　　復調器 →　受信データ"
   ]
  },
  {
   "cell_type": "code",
   "execution_count": 463,
   "id": "64f1ee79-bbc4-4631-a821-1abb0fc902f4",
   "metadata": {},
   "outputs": [],
   "source": [
    "# import\n",
    "import numpy as np\n",
    "import sys"
   ]
  },
  {
   "cell_type": "code",
   "execution_count": 464,
   "id": "59d26d13-9429-4f2d-bcb9-6f118702982c",
   "metadata": {},
   "outputs": [],
   "source": [
    "# データ生成器\n",
    "\n",
    "def rndCode(codeSize, Type):\n",
    "    \"\"\"\n",
    "    codeSize: 生成するランダム系列の大きさ（行数ｘ列数）を指定\n",
    "    Type: タイプ指定 0: [0,1], 1: [-1, 1]\n",
    "    \"\"\"\n",
    "    \n",
    "    rndCode = np.random.randn(*codeSize)\n",
    "    \n",
    "    if rndCode.ndim > 2:\n",
    "        sys.exit()\n",
    "    \n",
    "    dataSize = rndCode.shape\n",
    "    if len(dataSize) == 1:\n",
    "        sys.exit()\n",
    "    \n",
    "    if Type == 0:\n",
    "        rndCode = np.where(rndCode <= 0, 0, 1)\n",
    "    else:\n",
    "        rndCode = np.where(rndCode <= 0, -1, 1)\n",
    "    \n",
    "    return rndCode"
   ]
  },
  {
   "cell_type": "code",
   "execution_count": 465,
   "id": "2b697a82-ba96-45bd-a931-8f4202d5acc9",
   "metadata": {},
   "outputs": [],
   "source": [
    "# BPSK変調器\n",
    "def bpskMod(data):\n",
    "    bpskSymbol = data.copy()\n",
    "    np.place(bpskSymbol, bpskSymbol == 0, -1)\n",
    "    \n",
    "    return bpskSymbol"
   ]
  },
  {
   "cell_type": "code",
   "execution_count": 466,
   "id": "eede5fbe-853b-49af-81a5-6a371a641679",
   "metadata": {},
   "outputs": [],
   "source": [
    "# 送信機\n",
    "\n",
    "Ndata = 16 # データ数\n",
    "SNRdB = 20 # 雑音比\n",
    "\n",
    "Nchip = 100\n",
    "Lss = Ndata * Nchip\n",
    "Delay = np.array([[0,10]])\n",
    "Npath = Delay.size\n",
    "\n",
    "data = rndCode([Ndata, 1], 0)\n",
    "bpskSymbol = bpskMod(data)\n",
    "\n",
    "# 拡散系列\n",
    "spCode = rndCode([Nchip, 1], 1)\n",
    "ssSig = spCode * bpskSymbol.T\n",
    "ssSig = np.array([ssSig.flatten()]).T"
   ]
  },
  {
   "cell_type": "code",
   "execution_count": 467,
   "id": "2df7cfa6-0999-4cf1-9752-2628ad3e71bf",
   "metadata": {},
   "outputs": [],
   "source": [
    "# ガウス雑音生成\n",
    "\n",
    "def awgn(Pn, rn, cn):\n",
    "    \"\"\"\n",
    "    Pn: 雑音電力\n",
    "    ｒｎ: 行数\n",
    "    cn: 列数\n",
    "    \"\"\"\n",
    "    n = (np.random.randn(rn, cn)) + 1j * np.random.randn(rn, cn) * np.sqrt(Pn / 2)\n",
    "    \n",
    "    return n"
   ]
  },
  {
   "cell_type": "code",
   "execution_count": 468,
   "id": "988a9d31-7792-459c-a609-07939e54b590",
   "metadata": {},
   "outputs": [],
   "source": [
    "# 遅延発生器\n",
    "def delayGen(delayVec, sigMat):\n",
    "    Nsig = delayVec.shape[1]\n",
    "    \n",
    "    if Nsig != sigMat.shape[1]:\n",
    "        sys.exit(1)\n",
    "    \n",
    "    for co in range(0, Nsig):\n",
    "        roll_num = delayVec[0][co]\n",
    "        if delayVec[0][co] > 0:\n",
    "            sigMat[:,co] = np.roll(sigMat[:,co],roll_num)\n",
    "            sigMat[:roll_num, co] = 0\n",
    "            \n",
    "    return sigMat"
   ]
  },
  {
   "cell_type": "code",
   "execution_count": 469,
   "id": "1ce081cf-6376-479c-afd9-4fa2ebd12fdb",
   "metadata": {},
   "outputs": [],
   "source": [
    "# 選択性フェージング\n",
    "\n",
    "## 遅延追加\n",
    "ssSigMat = ssSig * np.ones((1,Npath))\n",
    "ssSigMatDelayed = delayGen(Delay, ssSigMat)\n",
    "\n",
    "chOut = np.array([ssSigMatDelayed.sum(axis=1)]).T\n",
    "\n",
    "# 雑音印加\n",
    "Pn = 10**(-SNRdB/10) * Nchip\n",
    "rSig = chOut + awgn(Pn, Lss, 1)"
   ]
  },
  {
   "cell_type": "code",
   "execution_count": 470,
   "id": "6f4feb87-5860-47b3-b9ad-ac1a184dd86e",
   "metadata": {},
   "outputs": [
    {
     "data": {
      "text/plain": [
       "(1600, 1)"
      ]
     },
     "execution_count": 470,
     "metadata": {},
     "output_type": "execute_result"
    }
   ],
   "source": [
    "rSig.shape"
   ]
  },
  {
   "cell_type": "code",
   "execution_count": 547,
   "id": "35261fcc-7b4d-411b-a5e8-ad90018abd10",
   "metadata": {},
   "outputs": [],
   "source": [
    "# 相関器\n",
    "def correlator(w, sig):\n",
    "    \"\"\"\n",
    "    w: 重み係数\n",
    "    sig:　入力信号\n",
    "    \"\"\"\n",
    "    \n",
    "    sizeW = w.shape\n",
    "    Lw = sizeW[0] # 1\n",
    "    Nw = sizeW[1] # 100\n",
    "    \n",
    "    corIn = np.vstack([sig, np.zeros((100,1))])\n",
    "    corOut = np.zeros((len(sig), Nw))\n",
    "    \n",
    "    for co in range(0, len(corOut)):\n",
    "        corOut[co, :] = (w.conjugate() * corIn[co:(co + Lw)]).sum()\n",
    "\n",
    "    return corOut"
   ]
  },
  {
   "cell_type": "code",
   "execution_count": 548,
   "id": "d78c2a98-91db-4a23-a650-7c0233e35846",
   "metadata": {},
   "outputs": [
    {
     "name": "stderr",
     "output_type": "stream",
     "text": [
      "<ipython-input-547-6852fb4768d4>:16: ComplexWarning: Casting complex values to real discards the imaginary part\n",
      "  corOut[co, :] = (w.conjugate() * corIn[co:(co + Lw)]).sum()\n"
     ]
    }
   ],
   "source": [
    "corOut = correlator(spCode, rSig)"
   ]
  },
  {
   "cell_type": "code",
   "execution_count": 587,
   "id": "adb67339-330a-4e98-b2f1-41c79ca9d62c",
   "metadata": {},
   "outputs": [
    {
     "data": {
      "text/plain": [
       "<StemContainer object of 3 artists>"
      ]
     },
     "execution_count": 587,
     "metadata": {},
     "output_type": "execute_result"
    },
    {
     "data": {
      "image/png": "[encoded data removed]",
      "text/plain": [
       "<Figure size 432x288 with 1 Axes>"
      ]
     },
     "metadata": {
      "needs_background": "light"
     },
     "output_type": "display_data"
    }
   ],
   "source": [
    "import matplotlib.pyplot as plt\n",
    "\n",
    "plt.stem(corOut.real)"
   ]
  },
  {
   "cell_type": "code",
   "execution_count": 568,
   "id": "75c65850-5fbb-432c-8487-a2feb71603ae",
   "metadata": {},
   "outputs": [],
   "source": [
    "# BPSK復調器\n",
    "def bpskDem(rSig):\n",
    "    \"\"\"\n",
    "    rSig : 受信信号\n",
    "    rData:　受信データ\n",
    "    \"\"\"\n",
    "    rData = np.where(rSig < 0, 0, 1)\n",
    "    \n",
    "    return rData"
   ]
  },
  {
   "cell_type": "code",
   "execution_count": 588,
   "id": "4c6e3df7-0c88-4ef7-9281-c175a19179a7",
   "metadata": {},
   "outputs": [
    {
     "data": {
      "text/plain": [
       "array([ 23.69014173,  26.56437619,   4.47373229,   4.67398866,\n",
       "        18.74366175, -19.49960409, -16.29395206,   3.56503852,\n",
       "        15.14083998,  32.32894503,  25.80872156, -13.83279202,\n",
       "       -11.80115915, -19.01539882,  -4.06501702,  -9.70804387])"
      ]
     },
     "execution_count": 588,
     "metadata": {},
     "output_type": "execute_result"
    }
   ],
   "source": [
    "corOut_rshp[1,:]"
   ]
  },
  {
   "cell_type": "code",
   "execution_count": 573,
   "id": "46db417a-e41a-40cb-bc31-4f45cbe05bae",
   "metadata": {},
   "outputs": [],
   "source": [
    "# 受信機\n",
    "corOut_rshp = corOut.reshape(Nchip, Ndata)\n",
    "rData = np.array([bpskDem(corOut_rshp[1,:])])"
   ]
  },
  {
   "cell_type": "code",
   "execution_count": 586,
   "id": "4184107c-04a6-458f-8373-fe4cdd6b610c",
   "metadata": {},
   "outputs": [
    {
     "data": {
      "text/plain": [
       "<StemContainer object of 3 artists>"
      ]
     },
     "execution_count": 586,
     "metadata": {},
     "output_type": "execute_result"
    },
    {
     "data": {
      "image/png": "[encoded data removed]",
      "text/plain": [
       "<Figure size 432x288 with 1 Axes>"
      ]
     },
     "metadata": {
      "needs_background": "light"
     },
     "output_type": "display_data"
    }
   ],
   "source": [
    "plt.stem(corOut_rshp[1,:])"
   ]
  },
  {
   "cell_type": "code",
   "execution_count": 580,
   "id": "55127159-3cc2-4918-9ed7-bce78d051424",
   "metadata": {},
   "outputs": [
    {
     "data": {
      "text/plain": [
       "array([[1, 1, 1, 1, 1, 1, 0, 0, 0, 1, 0, 1, 1, 1, 1, 0]])"
      ]
     },
     "execution_count": 580,
     "metadata": {},
     "output_type": "execute_result"
    }
   ],
   "source": [
    "data.T"
   ]
  },
  {
   "cell_type": "code",
   "execution_count": 581,
   "id": "72abfbce-9911-457c-9341-bbe23c0a93b2",
   "metadata": {},
   "outputs": [
    {
     "data": {
      "text/plain": [
       "array([[1, 1, 1, 1, 1, 0, 0, 1, 1, 1, 1, 0, 0, 0, 0, 0]])"
      ]
     },
     "execution_count": 581,
     "metadata": {},
     "output_type": "execute_result"
    }
   ],
   "source": [
    "rData"
   ]
  },
  {
   "cell_type": "code",
   "execution_count": 577,
   "id": "f54658e5-83ae-4d95-8b3c-b42be56f10bf",
   "metadata": {},
   "outputs": [],
   "source": [
    "# BER比較器\n",
    "def ber(data1, data2):\n",
    "    BER = np.sum(np.abs(data1-data2))/data1.size\n",
    "    return BER"
   ]
  },
  {
   "cell_type": "code",
   "execution_count": 579,
   "id": "9f89c404-da12-454c-9de4-ce48031b11e8",
   "metadata": {},
   "outputs": [
    {
     "data": {
      "text/plain": [
       "0.5"
      ]
     },
     "execution_count": 579,
     "metadata": {},
     "output_type": "execute_result"
    }
   ],
   "source": [
    "# ビットエラーレート（BER）の測定\n",
    "ber(data, rData.T)"
   ]
  }
 ],
 "metadata": {
  "kernelspec": {
   "display_name": "Python 3",
   "language": "python",
   "name": "python3"
  },
  "language_info": {
   "codemirror_mode": {
    "name": "ipython",
    "version": 3
   },
   "file_extension": ".py",
   "mimetype": "text/x-python",
   "name": "python",
   "nbconvert_exporter": "python",
   "pygments_lexer": "ipython3",
   "version": "3.8.8"
  }
 },
 "nbformat": 4,
 "nbformat_minor": 5
}

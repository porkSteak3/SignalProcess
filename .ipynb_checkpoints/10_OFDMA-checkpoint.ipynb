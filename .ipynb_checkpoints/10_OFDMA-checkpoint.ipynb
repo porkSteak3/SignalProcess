{
 "cells": [
  {
   "cell_type": "markdown",
   "id": "ef536b81-c902-4f36-a760-18a0aa9725b8",
   "metadata": {},
   "source": [
    "OFDMA シミュレーション\n",
    "==="
   ]
  },
  {
   "cell_type": "code",
   "execution_count": 116,
   "id": "6fb9a2f3-38ad-434a-b325-93616f8e90c0",
   "metadata": {},
   "outputs": [],
   "source": [
    "# import\n",
    "import numpy as np\n",
    "import sys\n",
    "import matplotlib.pyplot as plt\n",
    "\n",
    "np.set_printoptions(precision=4, suppress=True, floatmode=\"maxprec_equal\")\n",
    "plt.rcParams['figure.figsize'] = (12,4)"
   ]
  },
  {
   "cell_type": "code",
   "execution_count": 117,
   "id": "07b914b5-c63f-4ea7-bed3-c2875db9892f",
   "metadata": {},
   "outputs": [],
   "source": [
    "# パラメータ設定\n",
    "Nuser = 2\n",
    "Nsc_per_user = 32\n",
    "Nsc = Nuser * Nsc_per_user\n",
    "N_GI = 8\n",
    "NofdmSymbol = 500\n",
    "Ndata = Nsc_per_user * NofdmSymbol\n",
    "SNRdB = 20\n",
    "Lpilot = 2\n",
    "Delay = np.array([[0]])\n",
    "Npath = max(Delay.shape)"
   ]
  },
  {
   "cell_type": "code",
   "execution_count": 118,
   "id": "d2868d58-29c3-401c-b3dd-9ae6ed45b9de",
   "metadata": {},
   "outputs": [],
   "source": [
    "def rndCode(codeSize, Type):\n",
    "    \"\"\"\n",
    "    codeSize: 生成するランダム系列の大きさ（行数ｘ列数）を指定\n",
    "    Type: タイプ指定 0: [0,1], 1: [-1, 1]\n",
    "    \"\"\"\n",
    "    \n",
    "    rndCode = np.random.randn(*codeSize)\n",
    "    \n",
    "    if rndCode.ndim > 2:\n",
    "        sys.exit()\n",
    "    \n",
    "    dataSize = rndCode.shape\n",
    "    if len(dataSize) == 1:\n",
    "        sys.exit()\n",
    "    \n",
    "    if Type == 0:\n",
    "        rndCode = np.where(rndCode <= 0, 0, 1)\n",
    "    else:\n",
    "        rndCode = np.where(rndCode <= 0, -1, 1)\n",
    "    \n",
    "    return rndCode\n",
    "\n",
    "# BPSK変調器\n",
    "def bpskMod(data):\n",
    "    \"\"\"\n",
    "    data: 列ベクトル\n",
    "    bpskSymbol： 列ベクトル\n",
    "    \"\"\"\n",
    "    bpskSymbol = data.copy()\n",
    "    np.place(bpskSymbol, bpskSymbol == 0, -1)\n",
    "    \n",
    "    return bpskSymbol\n",
    "\n",
    "# ガウス雑音生成\n",
    "\n",
    "def awgn(Pn, rn, cn):\n",
    "    \"\"\"\n",
    "    Pn: 雑音電力\n",
    "    ｒｎ: 行数\n",
    "    cn: 列数\n",
    "    \"\"\"\n",
    "    n = np.random.randn(rn, cn) + 1j*np.random.randn(rn, cn)\n",
    "    n = n * np.sqrt(Pn/2)\n",
    "    \n",
    "    return n\n",
    "\n",
    "# 遅延発生器\n",
    "def delayGen(delayVec, ssSigMat):\n",
    "    sigMat = ssSigMat.copy()\n",
    "    Nsig = delayVec.shape[1]\n",
    "    \n",
    "    if Nsig != sigMat.shape[1]:\n",
    "        sys.exit(1)\n",
    "    \n",
    "    for co in range(0, Nsig):\n",
    "        if delayVec[0,co] > 0:\n",
    "            roll_num = delayVec[0][co]\n",
    "            sigMat[:,co] = np.roll(sigMat[:,co],roll_num)\n",
    "            sigMat[:roll_num, co] = 0\n",
    "            \n",
    "    return sigMat\n",
    "\n",
    "# BPSK復調器\n",
    "def bpskDem(rSig):\n",
    "    \"\"\"\n",
    "    rSig : 受信信号\n",
    "    rData:　受信データ\n",
    "    \"\"\"\n",
    "    rData = np.ones(rSig.shape)\n",
    "    rData[rSig < 0] =  0\n",
    "    \n",
    "    return rData\n",
    "\n",
    "# BER比較器\n",
    "def ber(data1, data2):\n",
    "    BER = np.sum(np.abs(data1-data2))/max(data1.shape)\n",
    "    return BER"
   ]
  },
  {
   "cell_type": "code",
   "execution_count": 119,
   "id": "ae291eeb-fe59-42d4-8142-cc6b4e590a40",
   "metadata": {},
   "outputs": [],
   "source": [
    "# 送信機\n",
    "data = rndCode([Ndata, Nuser], 0)\n",
    "bpskSymbol = bpskMod(data)\n",
    "Nsymbol = max(bpskSymbol.shape)\n",
    "spOut = np.zeros((Nsc, NofdmSymbol))\n",
    "for userCo in range(0,Nuser):\n",
    "    rangeStart = Nsc_per_user * (userCo - 1)\n",
    "    rangeEnd = Nsc_per_user * userCo\n",
    "    if rangeStart < 0:\n",
    "        rangeStart = 0\n",
    "        rangeEnd = Nsc_per_user\n",
    "    spOut[rangeStart:rangeEnd, :] = bpskSymbol[:, userCo].reshape(Nsc_per_user, NofdmSymbol, order='F').copy()"
   ]
  },
  {
   "cell_type": "code",
   "execution_count": 120,
   "id": "90c4fa4f-6742-488a-97bb-d68f78d3dbd6",
   "metadata": {},
   "outputs": [],
   "source": [
    "# 通信経路\n",
    "pilotMat = np.ones((Nsc, Lpilot))\n",
    "ofdmSymbol = np.hstack([pilotMat, spOut])\n",
    "ofdmSymbol_pilot = np.fft.ifft(ofdmSymbol, axis=0)\n",
    "\n",
    "gi = ofdmSymbol_pilot[(-1-N_GI):-1,:]\n",
    "ofdmSymbol_pilot_GI = np.vstack([gi,ofdmSymbol_pilot]);\n",
    "sOFDM = np.array([ofdmSymbol_pilot_GI.flatten('F')]).T\n",
    "\n",
    "ofdmSymbolMat = sOFDM * np.ones((1,Npath));\n",
    "ofdmSymbolMatDelayed = delayGen(Delay, ofdmSymbolMat);\n",
    "chOut = ofdmSymbolMatDelayed * np.ones((Npath, 1));\n",
    "Pn = 10 ** (-SNRdB/10) / Nsc;\n",
    "rSig = chOut + awgn(Pn, max(chOut.shape), 1);"
   ]
  },
  {
   "cell_type": "code",
   "execution_count": 121,
   "id": "7ffc898d-f556-430e-806f-933ce411bf9e",
   "metadata": {},
   "outputs": [],
   "source": [
    "# 受信機\n",
    "spOutR = rSig.reshape((Nsc+N_GI), (Lpilot+NofdmSymbol), order='F')\n",
    "spOutR = spOutR[N_GI:, :]\n",
    "fftOut = np.fft.fft(spOutR, axis=0)\n",
    "pilotMatRx = fftOut[:, :Lpilot]\n",
    "ofdmSymbolRx = fftOut[:,Lpilot:]\n",
    "chCoeff = np.array([np.mean(pilotMatRx, axis=1)]).T\n",
    "phasesShift = chCoeff/abs(chCoeff) @ np.ones((1, NofdmSymbol))\n",
    "ofdmSymbolRxCompensated = ofdmSymbolRx * phasesShift.conj()"
   ]
  },
  {
   "cell_type": "code",
   "execution_count": 122,
   "id": "1dc307c1-5659-4806-b5fd-ba48c07cd1cb",
   "metadata": {},
   "outputs": [
    {
     "name": "stdout",
     "output_type": "stream",
     "text": [
      "0 0.501375\n",
      "1 0.0\n"
     ]
    }
   ],
   "source": [
    "#BER計算\n",
    "ofdmSybolRx_user = np.zeros((Nsc, NofdmSymbol))\n",
    "for userCo in range(0, Nuser):\n",
    "    rangeStart = Nsc_per_user * (userCo - 1)\n",
    "    rangeEnd = Nsc_per_user * userCo\n",
    "    if rangeStart < 0:\n",
    "        rangeStart = 0\n",
    "        rangeEnd = Nsc_per_user\n",
    "    ofdmSymbolRx_user = ofdmSymbolRxCompensated[rangeStart:rangeEnd,:]\n",
    "    rData = bpskDem(np.array([ofdmSymbolRx_user.flatten('F')]).T)\n",
    "    BER = ber(np.array([data[:, userCo]]).T, rData)\n",
    "    print(userCo, BER)"
   ]
  }
 ],
 "metadata": {
  "kernelspec": {
   "display_name": "Python 3",
   "language": "python",
   "name": "python3"
  },
  "language_info": {
   "codemirror_mode": {
    "name": "ipython",
    "version": 3
   },
   "file_extension": ".py",
   "mimetype": "text/x-python",
   "name": "python",
   "nbconvert_exporter": "python",
   "pygments_lexer": "ipython3",
   "version": "3.8.8"
  }
 },
 "nbformat": 4,
 "nbformat_minor": 5
}

{
 "cells": [
  {
   "cell_type": "markdown",
   "id": "eea52576-0b12-4c7b-be19-8a5715ac9ee9",
   "metadata": {},
   "source": [
    "Rake受信のシミュレーション\n",
    "==="
   ]
  },
  {
   "cell_type": "code",
   "execution_count": 18,
   "id": "696e5227-d836-47fe-8571-bcac7ce4fc24",
   "metadata": {},
   "outputs": [],
   "source": [
    "# import\n",
    "import numpy as np\n",
    "import sys\n",
    "import matplotlib.pyplot as plt\n",
    "\n",
    "np.set_printoptions(precision=4, suppress=True, floatmode=\"maxprec_equal\")\n",
    "plt.rcParams['figure.figsize'] = (12,4)"
   ]
  },
  {
   "cell_type": "code",
   "execution_count": 145,
   "id": "4fafa413-0cd1-4b44-a189-c49eb91730d1",
   "metadata": {},
   "outputs": [],
   "source": [
    "Ndata = 100\n",
    "SNRdB = 10\n",
    "Nchip = 100\n",
    "Delay = np.array([[0,10]])\n",
    "Npath = max(Delay.shape)\n",
    "Lss = Ndata * Nchip\n",
    "Nsnapshot = 100"
   ]
  },
  {
   "cell_type": "code",
   "execution_count": 146,
   "id": "c8d6bf48-2a11-4dd0-944a-133789f167cf",
   "metadata": {},
   "outputs": [],
   "source": [
    "# データ生成器\n",
    "\n",
    "def rndCode(codeSize, Type):\n",
    "    \"\"\"\n",
    "    codeSize: 生成するランダム系列の大きさ（行数ｘ列数）を指定\n",
    "    Type: タイプ指定 0: [0,1], 1: [-1, 1]\n",
    "    \"\"\"\n",
    "    \n",
    "    rndCode = np.random.randn(*codeSize)\n",
    "    \n",
    "    if rndCode.ndim > 2:\n",
    "        sys.exit()\n",
    "    \n",
    "    dataSize = rndCode.shape\n",
    "    if len(dataSize) == 1:\n",
    "        sys.exit()\n",
    "    \n",
    "    if Type == 0:\n",
    "        rndCode = np.where(rndCode <= 0, 0, 1)\n",
    "    else:\n",
    "        rndCode = np.where(rndCode <= 0, -1, 1)\n",
    "    \n",
    "    return rndCode\n",
    "\n",
    "# BPSK変調器\n",
    "def bpskMod(data):\n",
    "    \"\"\"\n",
    "    data: 列ベクトル\n",
    "    bpskSymbol： 列ベクトル\n",
    "    \"\"\"\n",
    "    bpskSymbol = data.copy()\n",
    "    np.place(bpskSymbol, bpskSymbol == 0, -1)\n",
    "    \n",
    "    return bpskSymbol"
   ]
  },
  {
   "cell_type": "code",
   "execution_count": 147,
   "id": "003e4fb2-bfbc-48eb-ba2b-3666e98e87de",
   "metadata": {},
   "outputs": [],
   "source": [
    "data = rndCode([Ndata, 1], 0)\n",
    "bpskSymbol = bpskMod(data)\n",
    "Nsymbol = max(bpskSymbol.shape)\n",
    "\n",
    "# 拡散系列\n",
    "spCode = rndCode([Nchip, 1], 1)\n",
    "ssSig = spCode * bpskSymbol.T\n",
    "ssSig = np.array([ssSig.flatten('F')]).T"
   ]
  },
  {
   "cell_type": "code",
   "execution_count": 148,
   "id": "91fe87f3-18fb-4ab2-8a1a-162014e6073c",
   "metadata": {},
   "outputs": [],
   "source": [
    "outputSNR_RAKE = np.zeros((1,Nsnapshot))\n",
    "outputSNR = np.zeros((1,Nsnapshot))"
   ]
  },
  {
   "cell_type": "code",
   "execution_count": 149,
   "id": "c490619a-2ad6-4f4b-9bbc-f82313319d18",
   "metadata": {},
   "outputs": [],
   "source": [
    "# 遅延発生器\n",
    "def delayGen(delayVec, ssSigMat):\n",
    "    sigMat = ssSigMat.copy()\n",
    "    Nsig = delayVec.shape[1]\n",
    "    \n",
    "    for co in range(0, Nsig):\n",
    "        if delayVec[0,co] > 0:\n",
    "            roll_num = delayVec[0][co]\n",
    "            sigMat[:,co] = np.roll(sigMat[:,co],roll_num)\n",
    "            sigMat[:roll_num, co] = 0\n",
    "            \n",
    "    return sigMat\n",
    "\n",
    "def chCoeff(N, Pa):\n",
    "    \"\"\"\n",
    "    N: チャネル係数の数\n",
    "    Pa: 平均電力\n",
    "    \"\"\"\n",
    "    \n",
    "    rndPhase = np.random.rand(N,1) * 2 * np.pi\n",
    "    rylAmp = rylrnd(Pa, N)\n",
    "    chCoeff = rylAmp * np.exp(1j * rndPhase)\n",
    "    \n",
    "    return chCoeff\n",
    "    \n",
    "def rylrnd(Pa, L):\n",
    "    \"\"\"\n",
    "    Pa: 平均電力\n",
    "    L： 乱数の長さ\n",
    "    \"\"\"\n",
    "    \n",
    "    Npath = 20\n",
    "    randPhase = np.random.rand(Npath, L) * 2 * np.pi\n",
    "    s = np.exp(1j * randPhase) * np.sqrt(Pa / Npath)\n",
    "    rS = abs(np.array([s.sum(axis=0)]).T)\n",
    "    \n",
    "    return rS\n",
    "\n",
    "# ガウス雑音生成\n",
    "\n",
    "def awgn(Pn, rn, cn):\n",
    "    \"\"\"\n",
    "    Pn: 雑音電力\n",
    "    ｒｎ: 行数\n",
    "    cn: 列数\n",
    "    \"\"\"\n",
    "    n = np.random.randn(rn, cn) + 1j*np.random.randn(rn, cn)\n",
    "    n = n * np.sqrt(Pn/2)\n",
    "    \n",
    "    return n\n",
    "\n",
    "def snr(s, r):\n",
    "    \"\"\"å\n",
    "    s: SNR計算対象の信号ベクトル（x　✖️　1）\n",
    "    r:　参照信号ベクトル（y　✖️　1）\n",
    "    \"\"\"\n",
    "    length1 = max(s.shape)\n",
    "    length2 = max(r.shape)\n",
    "    length3 = min([length1, length2])\n",
    "    coef2_tmp = np.corrcoef(s[0:length3], r[0, 0:length3], rowvar=False)\n",
    "    coef2 = coef2_tmp[0,1]\n",
    "    \n",
    "    snr = abs(coef2) ** 2 / (1 - abs(coef2) ** 2)\n",
    "    \n",
    "    return snr\n",
    "\n",
    "# 相関器\n",
    "def correlator(w, rSig):\n",
    "    \"\"\"\n",
    "    w: 重み係数\n",
    "    sig:　入力信号\n",
    "    \"\"\"\n",
    "    sig = rSig.copy()\n",
    "    \n",
    "    sizeW = w.shape\n",
    "    Lw = sizeW[0] # 100\n",
    "    Nw = sizeW[1] # 1\n",
    "    corIn = np.vstack([sig, np.zeros((Lw,1))]) # 1100 x 1\n",
    "    corOut = np.zeros((len(sig), Nw), dtype=\"complex\") # 1000x1\n",
    "    \n",
    "    for co in range(0, max(corOut.shape)):\n",
    "        corOut[co, :] = w.conj().T @ corIn[co:(co + Lw)]\n",
    "\n",
    "    return corOut"
   ]
  },
  {
   "cell_type": "code",
   "execution_count": 157,
   "id": "04b3cd57-0ac8-4d37-bd85-5020ef9196bb",
   "metadata": {},
   "outputs": [],
   "source": [
    "for snpCo in range(0,Nsnapshot):\n",
    "    ssSigMat = ssSig @ np.ones((1,Npath))\n",
    "    ssSigMatDelayed = delayGen(Delay, ssSigMat)\n",
    "    chCoeffs = chCoeff(Npath, 1)\n",
    "\n",
    "    chOut = ssSigMatDelayed @ chCoeffs\n",
    "    Pn = 10 ** (-SNRdB/10) * Nchip\n",
    "    rSig = chOut + awgn(Pn, Lss, 1)\n",
    "\n",
    "    corOut = correlator(spCode, rSig)\n",
    "\n",
    "    corOut_rshp = corOut.reshape(Nchip, Ndata, order='F')\n",
    "\n",
    "    rakeW = np.zeros((Nchip, 1), dtype=\"complex128\")\n",
    "    rakeW[Delay] = chCoeffs\n",
    "    y_rake = rakeW.conj().T @ corOut_rshp\n",
    "    outputSNR_RAKE[0, snpCo] = snr(bpskSymbol, y_rake)\n",
    "\n",
    "    w = np.zeros((Nchip, 1))\n",
    "    w[Delay[0]] = 1\n",
    "    y = w.conj().T @ corOut_rshp\n",
    "    outputSNR[0, snpCo] = snr(bpskSymbol, y)\n"
   ]
  },
  {
   "cell_type": "code",
   "execution_count": 158,
   "id": "9f27ed77-83ab-4cbc-9a0d-ca48f0f07410",
   "metadata": {},
   "outputs": [],
   "source": [
    "aveOutputSNR_RAKE = 10 * np.log10(np.mean(outputSNR_RAKE))\n",
    "aveOutputSNR = 10 * np.log10(np.mean(outputSNR))"
   ]
  },
  {
   "cell_type": "code",
   "execution_count": 159,
   "id": "a2a62d75-0f99-4171-923a-65e770a1e0e2",
   "metadata": {},
   "outputs": [
    {
     "name": "stdout",
     "output_type": "stream",
     "text": [
      "13.282510174558285 9.86634113953964\n"
     ]
    }
   ],
   "source": [
    "print(aveOutputSNR_RAKE, aveOutputSNR)"
   ]
  },
  {
   "cell_type": "code",
   "execution_count": null,
   "id": "b87e5f00-889b-4636-b4f9-9b93ef65083b",
   "metadata": {},
   "outputs": [],
   "source": []
  }
 ],
 "metadata": {
  "kernelspec": {
   "display_name": "Python 3",
   "language": "python",
   "name": "python3"
  },
  "language_info": {
   "codemirror_mode": {
    "name": "ipython",
    "version": 3
   },
   "file_extension": ".py",
   "mimetype": "text/x-python",
   "name": "python",
   "nbconvert_exporter": "python",
   "pygments_lexer": "ipython3",
   "version": "3.8.8"
  }
 },
 "nbformat": 4,
 "nbformat_minor": 5
}

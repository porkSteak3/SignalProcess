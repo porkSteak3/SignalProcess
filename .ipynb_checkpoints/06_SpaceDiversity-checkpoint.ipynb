{
 "cells": [
  {
   "cell_type": "markdown",
   "id": "d527f37d-82a8-42d9-a63e-cfa68b07a47d",
   "metadata": {},
   "source": [
    "空間ダイバーシティ シミュレーション\n",
    "==="
   ]
  },
  {
   "cell_type": "code",
   "execution_count": 1,
   "id": "0d3aaab9-fc30-45be-b002-c2e4d98e8621",
   "metadata": {},
   "outputs": [],
   "source": [
    "# Import\n",
    "import numpy as np\n",
    "import matplotlib.pyplot as plt\n",
    "import sys\n",
    "\n",
    "np.set_printoptions(precision=4, suppress=True, floatmode=\"maxprec_equal\")\n",
    "%matplotlib inline\n",
    "plt.rcParams['figure.figsize'] = (12,4)"
   ]
  },
  {
   "cell_type": "code",
   "execution_count": 2,
   "id": "9ef87379-adf8-46a4-a72b-71bd1302b6dd",
   "metadata": {},
   "outputs": [],
   "source": [
    "Ndata = 1000\n",
    "SNRdB = 10\n",
    "N_R = 4\n",
    "Nsnapshot = 100"
   ]
  },
  {
   "cell_type": "code",
   "execution_count": 3,
   "id": "4139072e-46e1-4d67-bbee-a6537e00ef64",
   "metadata": {},
   "outputs": [],
   "source": [
    "# データ生成器\n",
    "\n",
    "def rndCode(codeSize, Type):\n",
    "    \"\"\"\n",
    "    codeSize: 生成するランダム系列の大きさ（行数ｘ列数）を指定\n",
    "    Type: タイプ指定 0: [0,1], 1: [-1, 1]\n",
    "    \"\"\"\n",
    "    \n",
    "    rndCode = np.random.randn(*codeSize)\n",
    "    \n",
    "    if rndCode.ndim > 2:\n",
    "        sys.exit()\n",
    "    \n",
    "    dataSize = rndCode.shape\n",
    "    if len(dataSize) == 1:\n",
    "        sys.exit()\n",
    "    \n",
    "    if Type == 0:\n",
    "        rndCode = np.where(rndCode <= 0, 0, 1)\n",
    "    else:\n",
    "        rndCode = np.where(rndCode <= 0, -1, 1)\n",
    "    \n",
    "    return rndCode\n",
    "\n",
    "# BPSK変調器\n",
    "def bpskMod(data):\n",
    "    \"\"\"\n",
    "    data: 列ベクトル\n",
    "    bpskSymbol： 列ベクトル\n",
    "    \"\"\"\n",
    "    bpskSymbol = data.copy()\n",
    "    np.place(bpskSymbol, bpskSymbol == 0, -1)\n",
    "    \n",
    "    return bpskSymbol"
   ]
  },
  {
   "cell_type": "code",
   "execution_count": 4,
   "id": "40099c0e-029a-48a3-a232-1c562a060355",
   "metadata": {},
   "outputs": [],
   "source": [
    "data = rndCode((Ndata, 1), 0)\n",
    "bpskSymbol = bpskMod(data)\n",
    "Nsymbol = max(bpskSymbol.shape)"
   ]
  },
  {
   "cell_type": "code",
   "execution_count": 74,
   "id": "863dc964-d046-470f-b607-7fd29be58d8d",
   "metadata": {},
   "outputs": [],
   "source": [
    "def chCoeff(N, Pa):\n",
    "    \"\"\"\n",
    "    N: チャネル係数の数\n",
    "    Pa: 平均電力\n",
    "    \"\"\"\n",
    "    \n",
    "    rndPhase = np.random.rand(N,1) * 2 * np.pi\n",
    "    rylAmp = rylrnd(Pa, N)\n",
    "    chCoeff = rylAmp * np.exp(1j * rndPhase)\n",
    "    \n",
    "    return chCoeff\n",
    "    \n",
    "def rylrnd(Pa, L):\n",
    "    \"\"\"\n",
    "    Pa: 平均電力\n",
    "    L： 乱数の長さ\n",
    "    \"\"\"\n",
    "    \n",
    "    Npath = 20\n",
    "    randPhase = np.random.rand(Npath, L) * 2 * np.pi\n",
    "    s = np.exp(1j * randPhase) * np.sqrt(Pa / Npath)\n",
    "    rS = abs(np.array([s.sum(axis=0)]).T)\n",
    "    \n",
    "    return rS\n",
    "\n",
    "def awgn(Pn, rn, cn):\n",
    "    \"\"\"\n",
    "    Pn: 雑音電力\n",
    "    ｒｎ: 行数\n",
    "    cn: 列数\n",
    "    \"\"\"\n",
    "    n = (np.random.randn(rn, cn) + 1j * np.random.randn(rn, cn)) * np.sqrt(Pn / 2)\n",
    "    \n",
    "    return n\n",
    "    \n",
    "def snr(s, r):\n",
    "    \"\"\"å\n",
    "    s: SNR計算対象の信号ベクトル（x　✖️　1）\n",
    "    r:　参照信号ベクトル（y　✖️　1）\n",
    "    \"\"\"\n",
    "    length1 = max(s.shape)\n",
    "    length2 = max(r.shape)\n",
    "    length3 = min([length1, length2])\n",
    "    coef2_tmp = np.corrcoef(s[0:length3], r[0, 0:length3], rowvar=False)\n",
    "    coef2 = coef2_tmp[0,1]\n",
    "    \n",
    "    snr = abs(coef2) ** 2 / (1 - abs(coef2) ** 2)\n",
    "    \n",
    "    return snr"
   ]
  },
  {
   "cell_type": "code",
   "execution_count": 76,
   "id": "75dc43e2-4012-4a65-a3ce-9bfa2dfd34eb",
   "metadata": {},
   "outputs": [],
   "source": [
    "outputSNR_MRC = np.zeros((1, Nsnapshot))\n",
    "outputSNR = np.zeros((1,Nsnapshot))\n",
    "\n",
    "for snpCo in range(0,Nsnapshot):\n",
    "    Pn = 10**(-SNRdB/10)\n",
    "    chCoeffv = chCoeff(N_R, 1)\n",
    "    rSig = chCoeffv @ bpskSymbol.T + awgn(Pn, N_R, Nsymbol)\n",
    "    y_MRC = chCoeffv.conj().T @ rSig;\n",
    "    outputSNR_MRC[0, snpCo] = snr(bpskSymbol, y_MRC)\n",
    "    y = np.ones((1,N_R)) @ rSig\n",
    "    outputSNR[0, snpCo] = snr(bpskSymbol, y)"
   ]
  },
  {
   "cell_type": "code",
   "execution_count": 77,
   "id": "571677f8-6704-4d91-b3a0-2149de915f59",
   "metadata": {},
   "outputs": [],
   "source": [
    "aveOutputSNR_MRC = 10 * np.log10(np.mean(outputSNR_MRC))\n",
    "aveOutputSNR = 10 * np.log10(np.mean(outputSNR))"
   ]
  },
  {
   "cell_type": "code",
   "execution_count": 78,
   "id": "213ddeda-b31c-400a-8020-7e42a7475073",
   "metadata": {},
   "outputs": [
    {
     "data": {
      "text/plain": [
       "16.043817708276777"
      ]
     },
     "execution_count": 78,
     "metadata": {},
     "output_type": "execute_result"
    }
   ],
   "source": [
    "aveOutputSNR_MRC"
   ]
  },
  {
   "cell_type": "code",
   "execution_count": 79,
   "id": "3f4961f7-1193-47fa-90c5-8fd8e7bddec5",
   "metadata": {},
   "outputs": [
    {
     "data": {
      "text/plain": [
       "10.417546247731286"
      ]
     },
     "execution_count": 79,
     "metadata": {},
     "output_type": "execute_result"
    }
   ],
   "source": [
    "aveOutputSNR"
   ]
  }
 ],
 "metadata": {
  "kernelspec": {
   "display_name": "Python 3",
   "language": "python",
   "name": "python3"
  },
  "language_info": {
   "codemirror_mode": {
    "name": "ipython",
    "version": 3
   },
   "file_extension": ".py",
   "mimetype": "text/x-python",
   "name": "python",
   "nbconvert_exporter": "python",
   "pygments_lexer": "ipython3",
   "version": "3.8.8"
  }
 },
 "nbformat": 4,
 "nbformat_minor": 5
}

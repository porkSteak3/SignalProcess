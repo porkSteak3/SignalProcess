{
 "cells": [
  {
   "cell_type": "code",
   "execution_count": null,
   "id": "3b371520-2c98-4978-b33f-da06a0b9eb70",
   "metadata": {},
   "outputs": [],
   "source": [
    "# OFDMA"
   ]
  },
  {
   "cell_type": "code",
   "execution_count": 59,
   "id": "14ae9446-2fc1-49ad-9441-723296cb93e3",
   "metadata": {},
   "outputs": [],
   "source": [
    "import numpy as np\n",
    "import sys"
   ]
  },
  {
   "cell_type": "code",
   "execution_count": 60,
   "id": "8b55c552",
   "metadata": {},
   "outputs": [],
   "source": [
    "Nsc = 32\n",
    "N_GI = 8\n",
    "Lpilot = 2\n",
    "NofdmSymbol = 500\n",
    "Ndata = Nsc * NofdmSymbol\n",
    "SNRdB = 20\n",
    "Delay = np.array([[0,8]])\n",
    "Npath = max(Delay.shape)"
   ]
  },
  {
   "cell_type": "code",
   "execution_count": 6,
   "id": "4d879462-b8c0-47ac-af61-571cb6f0a890",
   "metadata": {},
   "outputs": [],
   "source": [
    "def rndCode(codeSize, Type):\n",
    "    \"\"\"\n",
    "    codeSize: 生成するランダム系列の大きさ（行数ｘ列数）を指定\n",
    "    Type: タイプ指定 0: [0,1], 1: [-1, 1]\n",
    "    \"\"\"\n",
    "    \n",
    "    rndCode = np.random.randn(*codeSize)\n",
    "    \n",
    "    if rndCode.ndim > 2:\n",
    "        sys.exit()\n",
    "    \n",
    "    dataSize = rndCode.shape\n",
    "    if len(dataSize) == 1:\n",
    "        sys.exit()\n",
    "    \n",
    "    if Type == 0:\n",
    "        rndCode = np.where(rndCode <= 0, 0, 1)\n",
    "    else:\n",
    "        rndCode = np.where(rndCode <= 0, -1, 1)\n",
    "    \n",
    "    return rndCode"
   ]
  },
  {
   "cell_type": "code",
   "execution_count": 7,
   "id": "a3244a1b-8207-4454-bfda-92781beddcf0",
   "metadata": {},
   "outputs": [],
   "source": [
    "data = rndCode([Ndata,1], 0)"
   ]
  },
  {
   "cell_type": "code",
   "execution_count": 9,
   "id": "aec1eec8-189c-4ea8-b5c0-d280f7e7657f",
   "metadata": {},
   "outputs": [],
   "source": [
    "# BPSK変調器\n",
    "def bpskMod(data):\n",
    "    bpskSymbol = data.copy()\n",
    "    np.place(bpskSymbol, bpskSymbol == 0, -1)\n",
    "    \n",
    "    return bpskSymbol"
   ]
  },
  {
   "cell_type": "code",
   "execution_count": 13,
   "id": "9d0a2213-9495-425c-a3a4-f1ce7b051bb6",
   "metadata": {},
   "outputs": [],
   "source": [
    "bpskSymbol = bpskMod(data)\n",
    "Nsymbol = max(bpskSymbol.shape)\n",
    "spOut = bpskSymbol.reshape(Nsc,NofdmSymbol)"
   ]
  },
  {
   "cell_type": "code",
   "execution_count": 16,
   "id": "9d48abee-6257-4186-b8d9-713227150f71",
   "metadata": {},
   "outputs": [
    {
     "data": {
      "text/plain": [
       "(32, 500)"
      ]
     },
     "execution_count": 16,
     "metadata": {},
     "output_type": "execute_result"
    }
   ],
   "source": [
    "spOut.shape"
   ]
  },
  {
   "cell_type": "code",
   "execution_count": 28,
   "id": "4dd65886-c98d-4e93-a43d-d789d59667c5",
   "metadata": {},
   "outputs": [],
   "source": [
    "pilotMat = np.ones((Nsc,Lpilot))\n",
    "ofdmSymbol_pilot = np.fft.ifft(np.hstack([pilotMat,spOut]))"
   ]
  },
  {
   "cell_type": "code",
   "execution_count": 30,
   "id": "fcec8258-4894-4503-b5b2-563f3397edf9",
   "metadata": {},
   "outputs": [
    {
     "data": {
      "text/plain": [
       "(32, 502)"
      ]
     },
     "execution_count": 30,
     "metadata": {},
     "output_type": "execute_result"
    }
   ],
   "source": [
    "ofdmSymbol_pilot.shape"
   ]
  },
  {
   "cell_type": "code",
   "execution_count": 35,
   "id": "ba3ba470-64bb-499a-a47d-3b977f996d66",
   "metadata": {},
   "outputs": [],
   "source": [
    "gi = ofdmSymbol_pilot[-1-N_GI:-1,:]"
   ]
  },
  {
   "cell_type": "code",
   "execution_count": 38,
   "id": "4e98dbaf-0c4f-4a23-bbe7-ed8d3bfe94aa",
   "metadata": {},
   "outputs": [],
   "source": [
    "ofdmSymbol_pilot_GI = np.vstack([gi,ofdmSymbol_pilot])"
   ]
  },
  {
   "cell_type": "code",
   "execution_count": 40,
   "id": "39c89bc2-c190-4c6a-94a2-587695b48a5f",
   "metadata": {},
   "outputs": [
    {
     "data": {
      "text/plain": [
       "(40, 502)"
      ]
     },
     "execution_count": 40,
     "metadata": {},
     "output_type": "execute_result"
    }
   ],
   "source": [
    "ofdmSymbol_pilot_GI.shape"
   ]
  },
  {
   "cell_type": "code",
   "execution_count": 46,
   "id": "352502ed-ff7d-44af-aa7e-87c1f86e041b",
   "metadata": {},
   "outputs": [],
   "source": [
    "sOFDM = np.array([ofdmSymbol_pilot_GI.flatten()]).T;"
   ]
  },
  {
   "cell_type": "code",
   "execution_count": 47,
   "id": "e2c6877b-65d8-4171-9acf-ed86bfd1945d",
   "metadata": {},
   "outputs": [
    {
     "data": {
      "text/plain": [
       "(20080, 1)"
      ]
     },
     "execution_count": 47,
     "metadata": {},
     "output_type": "execute_result"
    }
   ],
   "source": [
    "sOFDM.shape"
   ]
  },
  {
   "cell_type": "code",
   "execution_count": 49,
   "id": "dadc2c8a-56d4-4af0-8a86-8dc84a5733c9",
   "metadata": {},
   "outputs": [],
   "source": [
    "ofdmSymbolMat = sOFDM @ np.ones((1, Npath))"
   ]
  },
  {
   "cell_type": "code",
   "execution_count": 61,
   "id": "385270e9-0d3f-45dc-ac37-602b641be6ae",
   "metadata": {},
   "outputs": [],
   "source": [
    "# 遅延発生器\n",
    "def delayGen(delayVec, ssSigMat):\n",
    "    sigMat = ssSigMat.copy()\n",
    "    Nsig = delayVec.shape[1]\n",
    "    \n",
    "    if Nsig != sigMat.shape[1]:\n",
    "        sys.exit(1)\n",
    "    \n",
    "    for co in range(0, Nsig):\n",
    "        if delayVec[0,co] > 0:\n",
    "            roll_num = delayVec[0][co]\n",
    "            sigMat[:,co] = np.roll(sigMat[:,co],roll_num)\n",
    "            sigMat[:roll_num, co] = 0\n",
    "            \n",
    "    return sigMat"
   ]
  },
  {
   "cell_type": "code",
   "execution_count": 70,
   "id": "2271b3bd-9e16-405a-a93d-8c42b043b5ed",
   "metadata": {},
   "outputs": [],
   "source": [
    "ofdmSymbolMatDelayed = delayGen(Delay, ofdmSymbolMat)\n",
    "chOut = ofdmSymbolMatDelayed @ np.ones((Npath,1))\n",
    "Pn = 10**(-SNRdB/10) / Nsc"
   ]
  },
  {
   "cell_type": "code",
   "execution_count": 71,
   "id": "a9d55060-b325-4e9d-9e02-78adc7a40855",
   "metadata": {},
   "outputs": [],
   "source": [
    "def awgn(Pn, rn, cn):\n",
    "    \"\"\"\n",
    "    Pn: 雑音電力\n",
    "    ｒｎ: 行数\n",
    "    cn: 列数\n",
    "    \"\"\"\n",
    "    n = np.random.randn(rn, cn) + 1j*np.random.randn(rn, cn)\n",
    "    n = n * np.sqrt(Pn/2)\n",
    "    \n",
    "    return n"
   ]
  },
  {
   "cell_type": "code",
   "execution_count": 72,
   "id": "72e08545-8add-4000-835a-f75dffbd2f11",
   "metadata": {},
   "outputs": [],
   "source": [
    "rSig = chOut + awgn(Pn, max(chOut.shape), 1)"
   ]
  },
  {
   "cell_type": "code",
   "execution_count": 74,
   "id": "25587a16-e766-4155-952d-d5189827b4c2",
   "metadata": {},
   "outputs": [
    {
     "data": {
      "text/plain": [
       "(20080, 1)"
      ]
     },
     "execution_count": 74,
     "metadata": {},
     "output_type": "execute_result"
    }
   ],
   "source": [
    "rSig.shape"
   ]
  },
  {
   "cell_type": "code",
   "execution_count": 124,
   "id": "be114fe3-1740-400e-be20-e1e53b41c7e4",
   "metadata": {},
   "outputs": [],
   "source": [
    "spOutR = rSig.reshape((Nsc+N_GI), (Lpilot+NofdmSymbol))\n",
    "spOutR = spOutR[N_GI:, :] \n",
    "fftOut = np.fft.fft(spOutR)\n",
    "pilotMatRx = fftOut[:, 0:Lpilot]\n",
    "ofdmSymbolRx = fftOut[:,Lpilot:]\n",
    "chCoeff = np.mean(pilotMatRx,keepdims=2)\n",
    "phaseShift = chCoeff/abs(chCoeff) * np.ones((1, NofdmSymbol))\n",
    "ofdmSymbolRxCompensted = ofdmSymbolRx * phaseShift.conj()\n",
    "ofdmSymbolRxCompensted = np.array([ofdmSymbolRxCompensted.flatten()]).T"
   ]
  },
  {
   "cell_type": "code",
   "execution_count": 120,
   "id": "2738e356-6ff4-4182-a9e8-4df87490d55d",
   "metadata": {},
   "outputs": [],
   "source": [
    "# BPSK復調器\n",
    "def bpskDem(rSig):\n",
    "    \"\"\"\n",
    "    rSig : 受信信号\n",
    "    rData:　受信データ\n",
    "    \"\"\"\n",
    "    rData = np.ones(rSig.shape)\n",
    "    rData[rSig < 0] =  0\n",
    "    \n",
    "    return rData"
   ]
  },
  {
   "cell_type": "code",
   "execution_count": 126,
   "id": "a6a85bcc-ad92-4d23-b9bb-6fa98b106804",
   "metadata": {},
   "outputs": [
    {
     "data": {
      "text/plain": [
       "(16000, 1)"
      ]
     },
     "execution_count": 126,
     "metadata": {},
     "output_type": "execute_result"
    }
   ],
   "source": [
    "ofdmSymbolRxCompensted.shape"
   ]
  },
  {
   "cell_type": "code",
   "execution_count": 127,
   "id": "aa82c57b-82cb-42a5-8c9a-08916b7ce68f",
   "metadata": {},
   "outputs": [],
   "source": [
    "rData = bpskDem(ofdmSymbolRxCompensted)"
   ]
  },
  {
   "cell_type": "code",
   "execution_count": 129,
   "id": "5fe3e56d-e0d1-484a-aa7d-1569ed8c618a",
   "metadata": {},
   "outputs": [],
   "source": [
    "# BER比較器\n",
    "def ber(data1, data2):\n",
    "    BER = np.sum(np.abs(data1-data2))/data1.size\n",
    "    return BER"
   ]
  },
  {
   "cell_type": "code",
   "execution_count": 130,
   "id": "8a79dd15-4f61-494f-a101-da2463f27855",
   "metadata": {},
   "outputs": [
    {
     "data": {
      "text/plain": [
       "0.104"
      ]
     },
     "execution_count": 130,
     "metadata": {},
     "output_type": "execute_result"
    }
   ],
   "source": [
    "ber(data,rData)"
   ]
  }
 ],
 "metadata": {
  "kernelspec": {
   "display_name": "Python 3",
   "language": "python",
   "name": "python3"
  },
  "language_info": {
   "codemirror_mode": {
    "name": "ipython",
    "version": 3
   },
   "file_extension": ".py",
   "mimetype": "text/x-python",
   "name": "python",
   "nbconvert_exporter": "python",
   "pygments_lexer": "ipython3",
   "version": "3.8.8"
  }
 },
 "nbformat": 4,
 "nbformat_minor": 5
}

{
 "cells": [
  {
   "cell_type": "markdown",
   "id": "e56bf271-6ed7-42a5-9931-007ffec989ed",
   "metadata": {},
   "source": [
    "BPSK変調のシミュレーション\n",
    "===\n",
    "\n",
    "<img src='./imgsrc/BPSK変調.drawio.png'>"
   ]
  },
  {
   "cell_type": "code",
   "execution_count": 27,
   "id": "64f1ee79-bbc4-4631-a821-1abb0fc902f4",
   "metadata": {},
   "outputs": [],
   "source": [
    "# import\n",
    "import numpy as np\n",
    "import matplotlib.pyplot as plt\n",
    "import sys\n",
    "\n",
    "np.set_printoptions(precision=4, suppress=True, floatmode=\"maxprec_equal\")\n",
    "plt.rcParams['figure.figsize'] = (12,4)"
   ]
  },
  {
   "cell_type": "code",
   "execution_count": 16,
   "id": "59d26d13-9429-4f2d-bcb9-6f118702982c",
   "metadata": {},
   "outputs": [],
   "source": [
    "# データ生成器\n",
    "\n",
    "def rndCode(codeSize, Type):\n",
    "    \"\"\"\n",
    "    codeSize: 生成するランダム系列の大きさ（行数ｘ列数）を指定\n",
    "    Type: タイプ指定 0: [0,1], 1: [-1, 1]\n",
    "    \"\"\"\n",
    "    \n",
    "    rndCode = np.random.randn(*codeSize)\n",
    "    \n",
    "    if rndCode.ndim > 2:\n",
    "        sys.exit()\n",
    "    \n",
    "    dataSize = rndCode.shape\n",
    "    if len(dataSize) == 1:\n",
    "        sys.exit()\n",
    "    \n",
    "    if Type == 0:\n",
    "        rndCode = np.where(rndCode <= 0, 0, 1)\n",
    "    else:\n",
    "        rndCode = np.where(rndCode <= 0, -1, 1)\n",
    "    \n",
    "    return rndCode"
   ]
  },
  {
   "cell_type": "code",
   "execution_count": 17,
   "id": "2b697a82-ba96-45bd-a931-8f4202d5acc9",
   "metadata": {},
   "outputs": [],
   "source": [
    "# BPSK変調器\n",
    "def bpskMod(data):\n",
    "    bpskSymbol = data.copy()\n",
    "    np.place(bpskSymbol, bpskSymbol == 0, -1)\n",
    "    \n",
    "    return bpskSymbol"
   ]
  },
  {
   "cell_type": "code",
   "execution_count": 18,
   "id": "eede5fbe-853b-49af-81a5-6a371a641679",
   "metadata": {},
   "outputs": [],
   "source": [
    "# 送信機\n",
    "\n",
    "Ndata = 1024 # データ数\n",
    "SNRdB = 10 # 雑音比\n",
    "\n",
    "data = rndCode([Ndata, 1], 0)\n",
    "bpskSymbol = bpskMod(data)"
   ]
  },
  {
   "cell_type": "code",
   "execution_count": 19,
   "id": "d853a303-7bc4-4146-926d-be698e1829dd",
   "metadata": {},
   "outputs": [
    {
     "data": {
      "text/plain": [
       "array([[1, 1, 0, ..., 0, 0, 1]])"
      ]
     },
     "execution_count": 19,
     "metadata": {},
     "output_type": "execute_result"
    }
   ],
   "source": [
    "#　送信データ\n",
    "data.T"
   ]
  },
  {
   "cell_type": "code",
   "execution_count": 20,
   "id": "2df7cfa6-0999-4cf1-9752-2628ad3e71bf",
   "metadata": {},
   "outputs": [],
   "source": [
    "# ガウス雑音生成\n",
    "\n",
    "def awgn(Pn, rn, cn):\n",
    "    \"\"\"\n",
    "    Pn: 雑音電力\n",
    "    ｒｎ: 行数\n",
    "    cn: 列数\n",
    "    \"\"\"\n",
    "    n = (np.random.randn(rn, cn) + 1j * np.random.randn(rn, cn)) * np.sqrt(Pn / 2)\n",
    "    \n",
    "    return n"
   ]
  },
  {
   "cell_type": "code",
   "execution_count": 21,
   "id": "1ce081cf-6376-479c-afd9-4fa2ebd12fdb",
   "metadata": {},
   "outputs": [],
   "source": [
    "# 雑音印加\n",
    "NSymbol = len(bpskSymbol)\n",
    "Pn = 10**(-SNRdB/10)\n",
    "rSig = bpskSymbol + awgn(Pn, NSymbol, 1)"
   ]
  },
  {
   "cell_type": "code",
   "execution_count": 30,
   "id": "b4874ea9-17b4-4a1f-b9b6-5a2ff2d945ae",
   "metadata": {},
   "outputs": [
    {
     "data": {
      "text/plain": [
       "<matplotlib.collections.PathCollection at 0x7fd0e9584f10>"
      ]
     },
     "execution_count": 30,
     "metadata": {},
     "output_type": "execute_result"
    },
    {
     "data": {
      "image/png": "[encoded data removed]",
      "text/plain": [
       "<Figure size 864x288 with 1 Axes>"
      ]
     },
     "metadata": {
      "needs_background": "light"
     },
     "output_type": "display_data"
    }
   ],
   "source": [
    "# IQデータの散布図\n",
    "plt.scatter(rSig.real, rSig.imag)"
   ]
  },
  {
   "cell_type": "code",
   "execution_count": 22,
   "id": "75c65850-5fbb-432c-8487-a2feb71603ae",
   "metadata": {},
   "outputs": [],
   "source": [
    "# BPSK復調器\n",
    "def bpskDem(rSig):\n",
    "    \"\"\"\n",
    "    rSig : 受信信号\n",
    "    rData:　受信データ\n",
    "    \"\"\"\n",
    "    rData = np.ones(rSig.shape)\n",
    "    rData[rSig < 0] =  0\n",
    "    \n",
    "    return rData"
   ]
  },
  {
   "cell_type": "code",
   "execution_count": 23,
   "id": "46db417a-e41a-40cb-bc31-4f45cbe05bae",
   "metadata": {},
   "outputs": [],
   "source": [
    "# 受信機\n",
    "rData = bpskDem(rSig)"
   ]
  },
  {
   "cell_type": "code",
   "execution_count": 24,
   "id": "2931975b-71b2-4dbb-b6a5-2b5f6614f47e",
   "metadata": {},
   "outputs": [
    {
     "data": {
      "text/plain": [
       "array([[1., 1., 0., ..., 0., 0., 1.]])"
      ]
     },
     "execution_count": 24,
     "metadata": {},
     "output_type": "execute_result"
    }
   ],
   "source": [
    "# 受信データ\n",
    "ｒＤａｔａ.T"
   ]
  },
  {
   "cell_type": "code",
   "execution_count": 25,
   "id": "f54658e5-83ae-4d95-8b3c-b42be56f10bf",
   "metadata": {},
   "outputs": [],
   "source": [
    "# BER比較器\n",
    "def ber(data1, data2):\n",
    "    BER = np.sum(np.abs(data1-data2))/data1.size\n",
    "    return BER"
   ]
  },
  {
   "cell_type": "code",
   "execution_count": 26,
   "id": "9f89c404-da12-454c-9de4-ce48031b11e8",
   "metadata": {},
   "outputs": [
    {
     "data": {
      "text/plain": [
       "0.0"
      ]
     },
     "execution_count": 26,
     "metadata": {},
     "output_type": "execute_result"
    }
   ],
   "source": [
    "# ビットエラーレート（BER）の測定\n",
    "ber(data, rData)"
   ]
  }
 ],
 "metadata": {
  "kernelspec": {
   "display_name": "Python 3",
   "language": "python",
   "name": "python3"
  },
  "language_info": {
   "codemirror_mode": {
    "name": "ipython",
    "version": 3
   },
   "file_extension": ".py",
   "mimetype": "text/x-python",
   "name": "python",
   "nbconvert_exporter": "python",
   "pygments_lexer": "ipython3",
   "version": "3.8.8"
  }
 },
 "nbformat": 4,
 "nbformat_minor": 5
}

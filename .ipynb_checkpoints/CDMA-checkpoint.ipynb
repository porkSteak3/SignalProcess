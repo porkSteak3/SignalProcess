{
 "cells": [
  {
   "cell_type": "markdown",
   "id": "e56bf271-6ed7-42a5-9931-007ffec989ed",
   "metadata": {},
   "source": [
    "＃ Model\n",
    "\n",
    "送信データ →　変調器　→　拡散系列　→　伝送（雑音印加） →　拡散系列　→ 相関器 →　　復調器 →　受信データ"
   ]
  },
  {
   "cell_type": "code",
   "execution_count": 166,
   "id": "64f1ee79-bbc4-4631-a821-1abb0fc902f4",
   "metadata": {},
   "outputs": [],
   "source": [
    "# import\n",
    "import numpy as np\n",
    "import matplotlib.pyplot as plt\n",
    "import sys\n",
    "\n",
    "plt.rcParams['figure.figsize'] = (12,4)"
   ]
  },
  {
   "cell_type": "code",
   "execution_count": 167,
   "id": "59d26d13-9429-4f2d-bcb9-6f118702982c",
   "metadata": {},
   "outputs": [],
   "source": [
    "# データ生成器\n",
    "\n",
    "def rndCode(codeSize, Type):\n",
    "    \"\"\"\n",
    "    codeSize: 生成するランダム系列の大きさ（行数ｘ列数）を指定\n",
    "    Type: タイプ指定 0: [0,1], 1: [-1, 1]\n",
    "    \"\"\"\n",
    "    \n",
    "    rndCode = np.random.randn(*codeSize)\n",
    "    \n",
    "    if rndCode.ndim > 2:\n",
    "        sys.exit()\n",
    "    \n",
    "    dataSize = rndCode.shape\n",
    "    if len(dataSize) == 1:\n",
    "        sys.exit()\n",
    "    \n",
    "    if Type == 0:\n",
    "        rndCode = np.where(rndCode <= 0, 0, 1)\n",
    "    else:\n",
    "        rndCode = np.where(rndCode <= 0, -1, 1)\n",
    "    \n",
    "    return rndCode"
   ]
  },
  {
   "cell_type": "code",
   "execution_count": 168,
   "id": "22cca55f-53b1-4a49-a376-271e4ee80fbd",
   "metadata": {},
   "outputs": [
    {
     "data": {
      "text/plain": [
       "array([[1],\n",
       "       [1],\n",
       "       [1],\n",
       "       [1],\n",
       "       [1],\n",
       "       [1],\n",
       "       [1],\n",
       "       [1],\n",
       "       [1],\n",
       "       [0]])"
      ]
     },
     "execution_count": 168,
     "metadata": {},
     "output_type": "execute_result"
    }
   ],
   "source": [
    "rndCode((10,1),0) #テスト"
   ]
  },
  {
   "cell_type": "code",
   "execution_count": 169,
   "id": "20984ea9-e3f2-4c0c-abb7-f10d9750f25c",
   "metadata": {},
   "outputs": [
    {
     "data": {
      "text/plain": [
       "array([[-1],\n",
       "       [ 1],\n",
       "       [-1],\n",
       "       [ 1],\n",
       "       [-1],\n",
       "       [ 1],\n",
       "       [-1],\n",
       "       [ 1],\n",
       "       [ 1],\n",
       "       [ 1]])"
      ]
     },
     "execution_count": 169,
     "metadata": {},
     "output_type": "execute_result"
    }
   ],
   "source": [
    "rndCode((10,1),1) #テスト"
   ]
  },
  {
   "cell_type": "code",
   "execution_count": 170,
   "id": "2b697a82-ba96-45bd-a931-8f4202d5acc9",
   "metadata": {},
   "outputs": [],
   "source": [
    "# BPSK変調器\n",
    "def bpskMod(data):\n",
    "    \"\"\"\n",
    "    data: 列ベクトル\n",
    "    bpskSymbol： 列ベクトル\n",
    "    \"\"\"\n",
    "    bpskSymbol = data.copy()\n",
    "    np.place(bpskSymbol, bpskSymbol == 0, -1)\n",
    "    \n",
    "    return bpskSymbol"
   ]
  },
  {
   "cell_type": "code",
   "execution_count": 171,
   "id": "41bb79ee-d3f6-49df-a2b4-a72c84a69e0a",
   "metadata": {},
   "outputs": [
    {
     "data": {
      "text/plain": [
       "array([[-1],\n",
       "       [-1],\n",
       "       [ 1],\n",
       "       [ 1],\n",
       "       [-1],\n",
       "       [-1],\n",
       "       [-1],\n",
       "       [-1],\n",
       "       [ 1],\n",
       "       [ 1]])"
      ]
     },
     "execution_count": 171,
     "metadata": {},
     "output_type": "execute_result"
    }
   ],
   "source": [
    "bpskMod(rndCode((10,1),0)) #テスト"
   ]
  },
  {
   "cell_type": "code",
   "execution_count": 239,
   "id": "eede5fbe-853b-49af-81a5-6a371a641679",
   "metadata": {},
   "outputs": [],
   "source": [
    "# 送信機\n",
    "Ndata = 10 # データ数\n",
    "SNRdB = 6 # 雑音比\n",
    "\n",
    "Nchip = 100\n",
    "Lss = Ndata * Nchip\n",
    "\n",
    "Delay = np.array([[0,10]])\n",
    "Npath = max(Delay.shape)\n",
    "\n",
    "data = rndCode([Ndata, 1], 0)\n",
    "bpskSymbol = bpskMod(data)\n",
    "Nsymbol = max(bpskSymbol.shape)\n",
    "\n",
    "# 拡散系列\n",
    "spCode = rndCode([Nchip, 1], 1)\n",
    "ssSig = spCode @ bpskSymbol.T\n",
    "ssSig = ssSig.flatten()"
   ]
  },
  {
   "cell_type": "code",
   "execution_count": 240,
   "id": "0540aa04-0eeb-41a4-87b8-a93a900de146",
   "metadata": {},
   "outputs": [
    {
     "data": {
      "text/plain": [
       "0"
      ]
     },
     "execution_count": 240,
     "metadata": {},
     "output_type": "execute_result"
    }
   ],
   "source": [
    "(ssSig.reshape(100,10)[0,:] - bpskSymbol.T).sum()"
   ]
  },
  {
   "cell_type": "code",
   "execution_count": 241,
   "id": "2df7cfa6-0999-4cf1-9752-2628ad3e71bf",
   "metadata": {},
   "outputs": [],
   "source": [
    "# ガウス雑音生成\n",
    "\n",
    "def awgn(Pn, rn, cn):\n",
    "    \"\"\"\n",
    "    Pn: 雑音電力\n",
    "    ｒｎ: 行数\n",
    "    cn: 列数\n",
    "    \"\"\"\n",
    "    n = np.random.randn(rn, cn) + 1j*np.random.randn(rn, cn)\n",
    "    n = n * np.sqrt(Pn/2)\n",
    "    \n",
    "    return n"
   ]
  },
  {
   "cell_type": "code",
   "execution_count": 242,
   "id": "988a9d31-7792-459c-a609-07939e54b590",
   "metadata": {},
   "outputs": [],
   "source": [
    "# 遅延発生器\n",
    "def delayGen(delayVec, ssSigMat):\n",
    "    sigMat = ssSigMat.copy()\n",
    "    Nsig = delayVec.shape[1]\n",
    "    \n",
    "    if Nsig != sigMat.shape[1]:\n",
    "        sys.exit(1)\n",
    "    \n",
    "    for co in range(0, Nsig):\n",
    "        if delayVec[0,co] > 0:\n",
    "            roll_num = delayVec[0][co]\n",
    "            sigMat[:,co] = np.roll(sigMat[:,co],roll_num)\n",
    "            sigMat[:roll_num, co] = 0\n",
    "            \n",
    "    return sigMat"
   ]
  },
  {
   "cell_type": "code",
   "execution_count": 243,
   "id": "1ce081cf-6376-479c-afd9-4fa2ebd12fdb",
   "metadata": {},
   "outputs": [],
   "source": [
    "# 選択性フェージング\n",
    "\n",
    "## 遅延追加\n",
    "# ssSigMat = ssSig.reshape(ssSig.size, 1) * np.ones((1,Npath))\n",
    "# ssSigMatDelayed = delayGen(Delay, ssSigMat)\n",
    "\n",
    "# chOut = np.dot(ssSigMatDelayed, np.ones([Npath,1]))\n",
    "\n",
    "# Debug\n",
    "chOut = ssSig.reshape(ssSig.size, 1)\n",
    "\n",
    "# 雑音印加\n",
    "Pn = 10**(-SNRdB/10) * Nchip\n",
    "rSig = chOut + awgn(Pn, Lss, 1)"
   ]
  },
  {
   "cell_type": "code",
   "execution_count": 244,
   "id": "35261fcc-7b4d-411b-a5e8-ad90018abd10",
   "metadata": {},
   "outputs": [],
   "source": [
    "# 相関器\n",
    "def correlator(w, rSig):\n",
    "    \"\"\"\n",
    "    w: 重み係数\n",
    "    sig:　入力信号\n",
    "    \"\"\"\n",
    "    sig = rSig.copy()\n",
    "    \n",
    "    sizeW = w.shape\n",
    "    Lw = sizeW[0] # 100\n",
    "    Nw = sizeW[1] # 1\n",
    "    corIn = np.vstack([sig, np.zeros((Lw,1))]) # 1100 x 1\n",
    "    corOut = np.zeros((len(sig), Nw)) # 1000x1\n",
    "    \n",
    "    for co in range(0, max(corOut.shape)):\n",
    "        corOut[co, :] = w.conj().T @ corIn[co:(co + Lw)]\n",
    "\n",
    "    return corOut"
   ]
  },
  {
   "cell_type": "code",
   "execution_count": 245,
   "id": "4c6e3df7-0c88-4ef7-9281-c175a19179a7",
   "metadata": {},
   "outputs": [
    {
     "name": "stderr",
     "output_type": "stream",
     "text": [
      "<ipython-input-244-ca1d054a7c50>:16: ComplexWarning: Casting complex values to real discards the imaginary part\n",
      "  corOut[co, :] = w.conj().T @ corIn[co:(co + Lw)]\n"
     ]
    },
    {
     "data": {
      "text/plain": [
       "[<matplotlib.lines.Line2D at 0x7fe8f033f1c0>]"
      ]
     },
     "execution_count": 245,
     "metadata": {},
     "output_type": "execute_result"
    },
    {
     "data": {
      "image/png": "[encoded data removed]",
      "text/plain": [
       "<Figure size 864x288 with 1 Axes>"
      ]
     },
     "metadata": {
      "needs_background": "light"
     },
     "output_type": "display_data"
    }
   ],
   "source": [
    "corOut = correlator(spCode, rSig)\n",
    "plt.plot(corOut.real)"
   ]
  },
  {
   "cell_type": "code",
   "execution_count": 246,
   "id": "dcc2e0e0-05ef-4e19-82c6-3cd18d17aed6",
   "metadata": {},
   "outputs": [],
   "source": [
    "# BPSK復調器\n",
    "def bpskDem(rSig):\n",
    "    \"\"\"\n",
    "    rSig : 受信信号\n",
    "    rData:　受信データ\n",
    "    \"\"\"\n",
    "    rData = np.ones(rSig.shape)\n",
    "    rData[rSig < 0] =  0\n",
    "    \n",
    "    return rData"
   ]
  },
  {
   "cell_type": "code",
   "execution_count": 247,
   "id": "55127159-3cc2-4918-9ed7-bce78d051424",
   "metadata": {},
   "outputs": [
    {
     "data": {
      "text/plain": [
       "array([[1, 0, 1, 1, 0, 1, 0, 0, 0, 1]])"
      ]
     },
     "execution_count": 247,
     "metadata": {},
     "output_type": "execute_result"
    }
   ],
   "source": [
    "corOut_rshp = corOut.reshape(Nchip, Nsymbol)\n",
    "rData = np.array([bpskDem(corOut_rshp[1,:])])\n",
    "data.T"
   ]
  },
  {
   "cell_type": "code",
   "execution_count": 248,
   "id": "72abfbce-9911-457c-9341-bbe23c0a93b2",
   "metadata": {},
   "outputs": [
    {
     "data": {
      "text/plain": [
       "array([[1., 1., 0., 1., 0., 0., 1., 0., 1., 0.]])"
      ]
     },
     "execution_count": 248,
     "metadata": {},
     "output_type": "execute_result"
    }
   ],
   "source": [
    "rData"
   ]
  },
  {
   "cell_type": "code",
   "execution_count": 249,
   "id": "f54658e5-83ae-4d95-8b3c-b42be56f10bf",
   "metadata": {},
   "outputs": [],
   "source": [
    "# BER比較器\n",
    "def ber(data1, data2):\n",
    "    BER = np.sum(np.abs(data1-data2))/max(data1.shape)\n",
    "    return BER"
   ]
  },
  {
   "cell_type": "code",
   "execution_count": 250,
   "id": "9f89c404-da12-454c-9de4-ce48031b11e8",
   "metadata": {},
   "outputs": [
    {
     "data": {
      "text/plain": [
       "0.6"
      ]
     },
     "execution_count": 250,
     "metadata": {},
     "output_type": "execute_result"
    }
   ],
   "source": [
    "# ビットエラーレート（BER）の測定\n",
    "ber(data, rData.T)"
   ]
  }
 ],
 "metadata": {
  "kernelspec": {
   "display_name": "Python 3",
   "language": "python",
   "name": "python3"
  },
  "language_info": {
   "codemirror_mode": {
    "name": "ipython",
    "version": 3
   },
   "file_extension": ".py",
   "mimetype": "text/x-python",
   "name": "python",
   "nbconvert_exporter": "python",
   "pygments_lexer": "ipython3",
   "version": "3.8.8"
  }
 },
 "nbformat": 4,
 "nbformat_minor": 5
}

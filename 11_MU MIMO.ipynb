{
 "cells": [
  {
   "cell_type": "markdown",
   "id": "d342c14c-f443-4c83-8ed4-def3910b8028",
   "metadata": {},
   "source": [
    "MU MIMOシミュレーション\n",
    "==="
   ]
  },
  {
   "cell_type": "code",
   "execution_count": 3,
   "id": "303ccaa4-1699-4dce-84b7-b2cf01c1aae8",
   "metadata": {},
   "outputs": [],
   "source": [
    "# import\n",
    "import numpy as np\n",
    "import sys\n",
    "import matplotlib.pyplot as plt\n",
    "\n",
    "np.set_printoptions(precision=4, suppress=True, floatmode=\"maxprec_equal\")\n",
    "plt.rcParams['figure.figsize'] = (12,4)"
   ]
  },
  {
   "cell_type": "code",
   "execution_count": 4,
   "id": "737b5616-08c3-4d7a-9cfd-c9c044cf988c",
   "metadata": {},
   "outputs": [],
   "source": [
    "N_T = 4\n",
    "N_R = 2\n",
    "Ndata = 1000\n",
    "SNRdB = 100"
   ]
  },
  {
   "cell_type": "code",
   "execution_count": 5,
   "id": "72491921-03fc-4af6-b4a6-b22929560c40",
   "metadata": {},
   "outputs": [],
   "source": [
    "def rndCode(codeSize, Type):\n",
    "    \"\"\"\n",
    "    codeSize: 生成するランダム系列の大きさ（行数ｘ列数）を指定\n",
    "    Type: タイプ指定 0: [0,1], 1: [-1, 1]\n",
    "    \"\"\"\n",
    "    \n",
    "    rndCode = np.random.randn(*codeSize)\n",
    "    \n",
    "    if rndCode.ndim > 2:\n",
    "        sys.exit()\n",
    "    \n",
    "    dataSize = rndCode.shape\n",
    "    if len(dataSize) == 1:\n",
    "        sys.exit()\n",
    "    \n",
    "    if Type == 0:\n",
    "        rndCode = np.where(rndCode <= 0, 0, 1)\n",
    "    else:\n",
    "        rndCode = np.where(rndCode <= 0, -1, 1)\n",
    "    \n",
    "    return rndCode\n",
    "\n",
    "# BPSK変調器\n",
    "def bpskMod(data):\n",
    "    \"\"\"\n",
    "    data: 列ベクトル\n",
    "    bpskSymbol： 列ベクトル\n",
    "    \"\"\"\n",
    "    bpskSymbol = data.copy()\n",
    "    np.place(bpskSymbol, bpskSymbol == 0, -1)\n",
    "    \n",
    "    return bpskSymbol\n",
    "\n",
    "# ガウス雑音生成\n",
    "\n",
    "def awgn(Pn, rn, cn):\n",
    "    \"\"\"\n",
    "    Pn: 雑音電力\n",
    "    ｒｎ: 行数\n",
    "    cn: 列数\n",
    "    \"\"\"\n",
    "    n = np.random.randn(rn, cn) + 1j*np.random.randn(rn, cn)\n",
    "    n = n * np.sqrt(Pn/2)\n",
    "    \n",
    "    return n\n",
    "\n",
    "# 遅延発生器\n",
    "def delayGen(delayVec, ssSigMat):\n",
    "    sigMat = ssSigMat.copy()\n",
    "    Nsig = delayVec.shape[1]\n",
    "    \n",
    "    if Nsig != sigMat.shape[1]:\n",
    "        sys.exit(1)\n",
    "    \n",
    "    for co in range(0, Nsig):\n",
    "        if delayVec[0,co] > 0:\n",
    "            roll_num = delayVec[0][co]\n",
    "            sigMat[:,co] = np.roll(sigMat[:,co],roll_num)\n",
    "            sigMat[:roll_num, co] = 0\n",
    "            \n",
    "    return sigMat\n",
    "\n",
    "# BPSK復調器\n",
    "def bpskDem(rSig):\n",
    "    \"\"\"\n",
    "    rSig : 受信信号\n",
    "    rData:　受信データ\n",
    "    \"\"\"\n",
    "    rData = np.ones(rSig.shape)\n",
    "    rData[rSig < 0] =  0\n",
    "    \n",
    "    return rData\n",
    "\n",
    "# BER比較器\n",
    "def ber(data1, data2):\n",
    "    BER = np.sum(np.abs(data1-data2))/max(data1.shape)\n",
    "    return BER"
   ]
  },
  {
   "cell_type": "code",
   "execution_count": 7,
   "id": "0aefd629-8d7a-440d-91aa-032f1a8e70bc",
   "metadata": {},
   "outputs": [],
   "source": [
    "# 送信機\n",
    "data_A = rndCode([N_R, Ndata], 0)\n",
    "data_B = rndCode([N_R, Ndata], 0)\n",
    "bpskSymbols_A = bpskMod(data_A);\n",
    "bpskSymbols_B = bpskMod(data_B);\n",
    "\n",
    "bpskSymbols = np.vstack([bpskSymbols_A, bpskSymbols_B])"
   ]
  },
  {
   "cell_type": "code",
   "execution_count": 8,
   "id": "1208a0e3-7d5e-4e3f-9b73-0345852dfe74",
   "metadata": {},
   "outputs": [],
   "source": [
    "#通信経路 \n",
    "H_A = awgn(1, N_R, N_T);\n",
    "H_B = awgn(1, N_R, N_T);"
   ]
  },
  {
   "cell_type": "code",
   "execution_count": 27,
   "id": "b5920bca-0e52-4ccb-8eb0-a676f01d479c",
   "metadata": {},
   "outputs": [],
   "source": [
    "#　MU　MIMO　重み係数を計算するための下準備\n",
    "[V_R_A, Lambda_A, V_H_A] = np.linalg.svd(H_A);\n",
    "V_T_A = V_H_A.conj().T\n",
    "Vn_A = V_T_A[:, 2:4]\n",
    "[V_R_B, Lambda_B, V_H_B] = np.linalg.svd(H_B);\n",
    "V_T_B = V_H_B.conj().T\n",
    "Vn_B = V_T_B[:, 2:4]\n",
    "H_A_tilda = H_A @ Vn_B\n",
    "H_B_tilda = H_B @ Vn_A\n",
    "[V_R_A_tilda, Lambda_A_tilda, V_H_A_tilda] = np.linalg.svd(H_A_tilda)\n",
    "[V_R_B_tilda, Lambda_B_tilda, V_H_B_tilda] = np.linalg.svd(H_B_tilda)\n",
    "V_T_A_tilda = V_H_A_tilda.conj().T\n",
    "V_T_B_tilda = V_H_B_tilda.conj().T"
   ]
  },
  {
   "cell_type": "code",
   "execution_count": 28,
   "id": "b495a537-5beb-449c-b856-1fe9bc8fab95",
   "metadata": {},
   "outputs": [],
   "source": [
    "#　送信機\n",
    "W_T_A = Vn_B @ V_T_A_tilda\n",
    "W_T_B = Vn_A @ V_T_B_tilda\n",
    "U_A = W_T_A @ bpskSymbols_A\n",
    "U_B = W_T_B @ bpskSymbols_B"
   ]
  },
  {
   "cell_type": "code",
   "execution_count": 31,
   "id": "502a6d15-40f3-4283-bf43-cebeefda22ea",
   "metadata": {},
   "outputs": [],
   "source": [
    "#通信路と受信信号\n",
    "Pn = 10 ** (-SNRdB/10) * Lambda_A_tilda[0];\n",
    "X_A = H_A @ (U_A + U_B) + awgn(Pn, N_R, Ndata);\n",
    "X_B = H_B @ (U_A + U_B) + awgn(Pn, N_R, Ndata);"
   ]
  },
  {
   "cell_type": "code",
   "execution_count": 32,
   "id": "673d5c53-0ae6-41b8-871c-c67fa46e9f8b",
   "metadata": {},
   "outputs": [],
   "source": [
    "#　受信機\n",
    "Y_A = V_R_A_tilda.conj().T @ X_A;\n",
    "Y_B = V_R_B_tilda.conj().T @ X_B;\n",
    "rData_A = bpskDem(Y_A)\n",
    "rData_B = bpskDem(Y_B)"
   ]
  },
  {
   "cell_type": "code",
   "execution_count": 34,
   "id": "be94a2e6-86af-4dbf-bbe3-59aeba6e0e8f",
   "metadata": {},
   "outputs": [
    {
     "name": "stdout",
     "output_type": "stream",
     "text": [
      "0.0 0.0\n",
      "0.0 0.0\n"
     ]
    }
   ],
   "source": [
    "#　BER計算と結果表示\n",
    "for pipeCo in range(0, N_R):\n",
    "    BER_A = ber(data_A[pipeCo, :], rData_A[pipeCo,:]);\n",
    "    BER_B = ber(data_B[pipeCo, :], rData_B[pipeCo,:]);\n",
    "    print(BER_A, BER_B)"
   ]
  }
 ],
 "metadata": {
  "kernelspec": {
   "display_name": "Python 3",
   "language": "python",
   "name": "python3"
  },
  "language_info": {
   "codemirror_mode": {
    "name": "ipython",
    "version": 3
   },
   "file_extension": ".py",
   "mimetype": "text/x-python",
   "name": "python",
   "nbconvert_exporter": "python",
   "pygments_lexer": "ipython3",
   "version": "3.8.8"
  }
 },
 "nbformat": 4,
 "nbformat_minor": 5
}

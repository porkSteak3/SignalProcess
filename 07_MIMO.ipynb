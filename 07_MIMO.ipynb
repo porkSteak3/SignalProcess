{
 "cells": [
  {
   "cell_type": "markdown",
   "id": "d17bb14a-59db-4b40-8a1a-82c06b68f073",
   "metadata": {},
   "source": [
    "MIMO空有間多重伝送シミュレーション\n",
    "==="
   ]
  },
  {
   "cell_type": "code",
   "execution_count": 6,
   "id": "e93d75f4-fad5-41e4-8c98-14f8b62e1fa5",
   "metadata": {},
   "outputs": [],
   "source": [
    "# Import\n",
    "import numpy as np\n",
    "import matplotlib.pyplot as plt\n",
    "import sys\n",
    "\n",
    "np.set_printoptions(precision=4, suppress=True, floatmode=\"maxprec_equal\")\n",
    "%matplotlib inline\n",
    "plt.rcParams['figure.figsize'] = (12,4)"
   ]
  },
  {
   "cell_type": "code",
   "execution_count": 79,
   "id": "a24cc969-9809-4df7-8524-e1ef9bf09373",
   "metadata": {},
   "outputs": [],
   "source": [
    "N_T = 32\n",
    "N_R = 32\n",
    "Ndata = 1000\n",
    "SNRdB = 100"
   ]
  },
  {
   "cell_type": "code",
   "execution_count": 80,
   "id": "d3ef0956-3255-4e64-bc2d-8dd6efead097",
   "metadata": {},
   "outputs": [],
   "source": [
    "# データ生成器\n",
    "\n",
    "def rndCode(codeSize, Type):\n",
    "    \"\"\"\n",
    "    codeSize: 生成するランダム系列の大きさ（行数ｘ列数）を指定\n",
    "    Type: タイプ指定 0: [0,1], 1: [-1, 1]\n",
    "    \"\"\"\n",
    "    \n",
    "    rndCode = np.random.randn(*codeSize)\n",
    "    \n",
    "    if rndCode.ndim > 2:\n",
    "        sys.exit()\n",
    "    \n",
    "    dataSize = rndCode.shape\n",
    "    if len(dataSize) == 1:\n",
    "        sys.exit()\n",
    "    \n",
    "    if Type == 0:\n",
    "        rndCode = np.where(rndCode <= 0, 0, 1)\n",
    "    else:\n",
    "        rndCode = np.where(rndCode <= 0, -1, 1)\n",
    "    \n",
    "    return rndCode\n",
    "\n",
    "# BPSK変調器\n",
    "def bpskMod(data):\n",
    "    \"\"\"\n",
    "    data: 列ベクトル\n",
    "    bpskSymbol： 列ベクトル\n",
    "    \"\"\"\n",
    "    bpskSymbol = data.copy()\n",
    "    np.place(bpskSymbol, bpskSymbol == 0, -1)\n",
    "    \n",
    "    return bpskSymbol\n",
    "\n",
    "# ガウス雑音生成\n",
    "\n",
    "def awgn(Pn, rn, cn):\n",
    "    \"\"\"\n",
    "    Pn: 雑音電力\n",
    "    ｒｎ: 行数\n",
    "    cn: 列数\n",
    "    \"\"\"\n",
    "    n = (np.random.randn(rn, cn) + 1j * np.random.randn(rn, cn)) * np.sqrt(Pn / 2)\n",
    "    \n",
    "    return n"
   ]
  },
  {
   "cell_type": "code",
   "execution_count": 81,
   "id": "244fbf04-fe5c-4118-a5dd-688e828f5f2e",
   "metadata": {},
   "outputs": [],
   "source": [
    "data = rndCode([N_T, Ndata], 0)\n",
    "bpskSymbols = bpskMod(data)\n",
    "H = awgn(1, N_R, N_T)\n",
    "V_R, LambdaM, V_H = np.linalg.svd(H)\n",
    "V_T = V_H.conj().T\n",
    "U = V_T @ bpskSymbols;"
   ]
  },
  {
   "cell_type": "code",
   "execution_count": 82,
   "id": "fec8d5bb-68e0-4fc9-867a-4dccbbf97c66",
   "metadata": {},
   "outputs": [],
   "source": [
    "Pn = 10 ** (-SNRdB/10) * LambdaM[0]\n",
    "X = H @ U + awgn(Pn, N_R, Ndata)"
   ]
  },
  {
   "cell_type": "code",
   "execution_count": 83,
   "id": "7ba06a4e-3a49-4c2d-aa00-4e8aa5bbde3a",
   "metadata": {},
   "outputs": [],
   "source": [
    "# BPSK復調器\n",
    "def bpskDem(rSig):\n",
    "    \"\"\"\n",
    "    rSig : 受信信号\n",
    "    rData:　受信データ\n",
    "    \"\"\"\n",
    "    rData = np.ones(rSig.shape)\n",
    "    rData[rSig < 0] =  0\n",
    "    \n",
    "    return rData"
   ]
  },
  {
   "cell_type": "code",
   "execution_count": 84,
   "id": "32a11201-0064-4f07-9d48-7cd6f32f6900",
   "metadata": {},
   "outputs": [],
   "source": [
    "Y = V_R.conj().T @ X\n",
    "rData = bpskDem(Y)"
   ]
  },
  {
   "cell_type": "code",
   "execution_count": 85,
   "id": "833ac6e4-baa4-435a-82db-43d965793fc8",
   "metadata": {},
   "outputs": [],
   "source": [
    "# BER比較器\n",
    "def ber(data1, data2):\n",
    "    BER = np.sum(np.abs(data1-data2))/data1.size\n",
    "    return BER"
   ]
  },
  {
   "cell_type": "code",
   "execution_count": 86,
   "id": "0f1ee2b4-aa8c-4493-820a-6e578410fecd",
   "metadata": {},
   "outputs": [
    {
     "name": "stdout",
     "output_type": "stream",
     "text": [
      "0.0\n",
      "0.0\n",
      "0.0\n",
      "0.0\n",
      "0.0\n",
      "0.0\n",
      "0.0\n",
      "0.0\n",
      "0.0\n",
      "0.0\n",
      "0.0\n",
      "0.0\n",
      "0.0\n",
      "0.0\n",
      "0.0\n",
      "0.0\n",
      "0.0\n",
      "0.0\n",
      "0.0\n",
      "0.0\n",
      "0.0\n",
      "0.0\n",
      "0.0\n",
      "0.0\n",
      "0.0\n",
      "0.0\n",
      "0.0\n",
      "0.0\n",
      "0.0\n",
      "0.0\n",
      "0.0\n",
      "0.0\n"
     ]
    }
   ],
   "source": [
    "for pipeCo in range(0, N_R):\n",
    "    BER = ber(data[pipeCo, :], rData[pipeCo, :])\n",
    "    print(BER)"
   ]
  },
  {
   "cell_type": "code",
   "execution_count": null,
   "id": "605d51a3-3621-458f-b8b5-4435f8d0d509",
   "metadata": {},
   "outputs": [],
   "source": []
  }
 ],
 "metadata": {
  "kernelspec": {
   "display_name": "Python 3",
   "language": "python",
   "name": "python3"
  },
  "language_info": {
   "codemirror_mode": {
    "name": "ipython",
    "version": 3
   },
   "file_extension": ".py",
   "mimetype": "text/x-python",
   "name": "python",
   "nbconvert_exporter": "python",
   "pygments_lexer": "ipython3",
   "version": "3.8.8"
  }
 },
 "nbformat": 4,
 "nbformat_minor": 5
}
